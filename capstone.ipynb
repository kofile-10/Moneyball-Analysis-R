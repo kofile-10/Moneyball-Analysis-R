{
 "cells": [
  {
   "cell_type": "code",
   "execution_count": 1,
   "metadata": {
    "ExecuteTime": {
     "end_time": "2020-12-04T02:34:32.990142Z",
     "start_time": "2020-12-04T02:34:32.454Z"
    }
   },
   "outputs": [],
   "source": [
    "batting <- read.csv('Batting.csv')"
   ]
  },
  {
   "cell_type": "code",
   "execution_count": 4,
   "metadata": {
    "ExecuteTime": {
     "end_time": "2020-12-04T04:53:04.953253Z",
     "start_time": "2020-12-04T04:53:04.928Z"
    }
   },
   "outputs": [
    {
     "data": {
      "text/html": [
       "<table>\n",
       "<thead><tr><th scope=col>playerID</th><th scope=col>yearID</th><th scope=col>stint</th><th scope=col>teamID</th><th scope=col>lgID</th><th scope=col>G</th><th scope=col>G_batting</th><th scope=col>AB</th><th scope=col>R</th><th scope=col>H</th><th scope=col>...</th><th scope=col>SB</th><th scope=col>CS</th><th scope=col>BB</th><th scope=col>SO</th><th scope=col>IBB</th><th scope=col>HBP</th><th scope=col>SH</th><th scope=col>SF</th><th scope=col>GIDP</th><th scope=col>G_old</th></tr></thead>\n",
       "<tbody>\n",
       "\t<tr><td>aardsda01</td><td>2004     </td><td>1        </td><td>SFN      </td><td>NL       </td><td>11       </td><td>11       </td><td>0        </td><td>0        </td><td>0        </td><td>...      </td><td>0        </td><td>0        </td><td>0        </td><td>0        </td><td>0        </td><td>0        </td><td>0        </td><td>0        </td><td>0        </td><td>11       </td></tr>\n",
       "\t<tr><td>aardsda01</td><td>2006     </td><td>1        </td><td>CHN      </td><td>NL       </td><td>45       </td><td>43       </td><td>2        </td><td>0        </td><td>0        </td><td>...      </td><td>0        </td><td>0        </td><td>0        </td><td>0        </td><td>0        </td><td>0        </td><td>1        </td><td>0        </td><td>0        </td><td>45       </td></tr>\n",
       "\t<tr><td>aardsda01</td><td>2007     </td><td>1        </td><td>CHA      </td><td>AL       </td><td>25       </td><td> 2       </td><td>0        </td><td>0        </td><td>0        </td><td>...      </td><td>0        </td><td>0        </td><td>0        </td><td>0        </td><td>0        </td><td>0        </td><td>0        </td><td>0        </td><td>0        </td><td> 2       </td></tr>\n",
       "\t<tr><td>aardsda01</td><td>2008     </td><td>1        </td><td>BOS      </td><td>AL       </td><td>47       </td><td> 5       </td><td>1        </td><td>0        </td><td>0        </td><td>...      </td><td>0        </td><td>0        </td><td>0        </td><td>1        </td><td>0        </td><td>0        </td><td>0        </td><td>0        </td><td>0        </td><td> 5       </td></tr>\n",
       "\t<tr><td>aardsda01</td><td>2009     </td><td>1        </td><td>SEA      </td><td>AL       </td><td>73       </td><td> 3       </td><td>0        </td><td>0        </td><td>0        </td><td>...      </td><td>0        </td><td>0        </td><td>0        </td><td>0        </td><td>0        </td><td>0        </td><td>0        </td><td>0        </td><td>0        </td><td>NA       </td></tr>\n",
       "</tbody>\n",
       "</table>\n"
      ],
      "text/latex": [
       "\\begin{tabular}{r|llllllllllllllllllllllll}\n",
       " playerID & yearID & stint & teamID & lgID & G & G\\_batting & AB & R & H & ... & SB & CS & BB & SO & IBB & HBP & SH & SF & GIDP & G\\_old\\\\\n",
       "\\hline\n",
       "\t aardsda01 & 2004      & 1         & SFN       & NL        & 11        & 11        & 0         & 0         & 0         & ...       & 0         & 0         & 0         & 0         & 0         & 0         & 0         & 0         & 0         & 11       \\\\\n",
       "\t aardsda01 & 2006      & 1         & CHN       & NL        & 45        & 43        & 2         & 0         & 0         & ...       & 0         & 0         & 0         & 0         & 0         & 0         & 1         & 0         & 0         & 45       \\\\\n",
       "\t aardsda01 & 2007      & 1         & CHA       & AL        & 25        &  2        & 0         & 0         & 0         & ...       & 0         & 0         & 0         & 0         & 0         & 0         & 0         & 0         & 0         &  2       \\\\\n",
       "\t aardsda01 & 2008      & 1         & BOS       & AL        & 47        &  5        & 1         & 0         & 0         & ...       & 0         & 0         & 0         & 1         & 0         & 0         & 0         & 0         & 0         &  5       \\\\\n",
       "\t aardsda01 & 2009      & 1         & SEA       & AL        & 73        &  3        & 0         & 0         & 0         & ...       & 0         & 0         & 0         & 0         & 0         & 0         & 0         & 0         & 0         & NA       \\\\\n",
       "\\end{tabular}\n"
      ],
      "text/markdown": [
       "\n",
       "| playerID | yearID | stint | teamID | lgID | G | G_batting | AB | R | H | ... | SB | CS | BB | SO | IBB | HBP | SH | SF | GIDP | G_old |\n",
       "|---|---|---|---|---|---|---|---|---|---|---|---|---|---|---|---|---|---|---|---|---|\n",
       "| aardsda01 | 2004      | 1         | SFN       | NL        | 11        | 11        | 0         | 0         | 0         | ...       | 0         | 0         | 0         | 0         | 0         | 0         | 0         | 0         | 0         | 11        |\n",
       "| aardsda01 | 2006      | 1         | CHN       | NL        | 45        | 43        | 2         | 0         | 0         | ...       | 0         | 0         | 0         | 0         | 0         | 0         | 1         | 0         | 0         | 45        |\n",
       "| aardsda01 | 2007      | 1         | CHA       | AL        | 25        |  2        | 0         | 0         | 0         | ...       | 0         | 0         | 0         | 0         | 0         | 0         | 0         | 0         | 0         |  2        |\n",
       "| aardsda01 | 2008      | 1         | BOS       | AL        | 47        |  5        | 1         | 0         | 0         | ...       | 0         | 0         | 0         | 1         | 0         | 0         | 0         | 0         | 0         |  5        |\n",
       "| aardsda01 | 2009      | 1         | SEA       | AL        | 73        |  3        | 0         | 0         | 0         | ...       | 0         | 0         | 0         | 0         | 0         | 0         | 0         | 0         | 0         | NA        |\n",
       "\n"
      ],
      "text/plain": [
       "  playerID  yearID stint teamID lgID G  G_batting AB R H ... SB CS BB SO IBB\n",
       "1 aardsda01 2004   1     SFN    NL   11 11        0  0 0 ... 0  0  0  0  0  \n",
       "2 aardsda01 2006   1     CHN    NL   45 43        2  0 0 ... 0  0  0  0  0  \n",
       "3 aardsda01 2007   1     CHA    AL   25  2        0  0 0 ... 0  0  0  0  0  \n",
       "4 aardsda01 2008   1     BOS    AL   47  5        1  0 0 ... 0  0  0  1  0  \n",
       "5 aardsda01 2009   1     SEA    AL   73  3        0  0 0 ... 0  0  0  0  0  \n",
       "  HBP SH SF GIDP G_old\n",
       "1 0   0  0  0    11   \n",
       "2 0   1  0  0    45   \n",
       "3 0   0  0  0     2   \n",
       "4 0   0  0  0     5   \n",
       "5 0   0  0  0    NA   "
      ]
     },
     "metadata": {},
     "output_type": "display_data"
    }
   ],
   "source": [
    "head(batting,5)"
   ]
  },
  {
   "cell_type": "code",
   "execution_count": 3,
   "metadata": {
    "ExecuteTime": {
     "end_time": "2020-12-04T02:53:02.303507Z",
     "start_time": "2020-12-04T02:53:02.275Z"
    }
   },
   "outputs": [
    {
     "name": "stdout",
     "output_type": "stream",
     "text": [
      "'data.frame':\t97889 obs. of  24 variables:\n",
      " $ playerID : Factor w/ 18107 levels \"aardsda01\",\"aaronha01\",..: 1 1 1 1 1 1 1 2 2 2 ...\n",
      " $ yearID   : int  2004 2006 2007 2008 2009 2010 2012 1954 1955 1956 ...\n",
      " $ stint    : int  1 1 1 1 1 1 1 1 1 1 ...\n",
      " $ teamID   : Factor w/ 149 levels \"ALT\",\"ANA\",\"ARI\",..: 117 35 33 16 116 116 93 80 80 80 ...\n",
      " $ lgID     : Factor w/ 6 levels \"AA\",\"AL\",\"FL\",..: 4 4 2 2 2 2 2 4 4 4 ...\n",
      " $ G        : int  11 45 25 47 73 53 1 122 153 153 ...\n",
      " $ G_batting: int  11 43 2 5 3 4 NA 122 153 153 ...\n",
      " $ AB       : int  0 2 0 1 0 0 NA 468 602 609 ...\n",
      " $ R        : int  0 0 0 0 0 0 NA 58 105 106 ...\n",
      " $ H        : int  0 0 0 0 0 0 NA 131 189 200 ...\n",
      " $ X2B      : int  0 0 0 0 0 0 NA 27 37 34 ...\n",
      " $ X3B      : int  0 0 0 0 0 0 NA 6 9 14 ...\n",
      " $ HR       : int  0 0 0 0 0 0 NA 13 27 26 ...\n",
      " $ RBI      : int  0 0 0 0 0 0 NA 69 106 92 ...\n",
      " $ SB       : int  0 0 0 0 0 0 NA 2 3 2 ...\n",
      " $ CS       : int  0 0 0 0 0 0 NA 2 1 4 ...\n",
      " $ BB       : int  0 0 0 0 0 0 NA 28 49 37 ...\n",
      " $ SO       : int  0 0 0 1 0 0 NA 39 61 54 ...\n",
      " $ IBB      : int  0 0 0 0 0 0 NA NA 5 6 ...\n",
      " $ HBP      : int  0 0 0 0 0 0 NA 3 3 2 ...\n",
      " $ SH       : int  0 1 0 0 0 0 NA 6 7 5 ...\n",
      " $ SF       : int  0 0 0 0 0 0 NA 4 4 7 ...\n",
      " $ GIDP     : int  0 0 0 0 0 0 NA 13 20 21 ...\n",
      " $ G_old    : int  11 45 2 5 NA NA NA 122 153 153 ...\n"
     ]
    }
   ],
   "source": [
    "str(batting)"
   ]
  },
  {
   "cell_type": "code",
   "execution_count": 7,
   "metadata": {
    "ExecuteTime": {
     "end_time": "2020-12-04T04:53:54.162532Z",
     "start_time": "2020-12-04T04:53:54.142Z"
    }
   },
   "outputs": [
    {
     "data": {
      "text/html": [
       "<ol class=list-inline>\n",
       "\t<li>0</li>\n",
       "\t<li>0</li>\n",
       "\t<li>0</li>\n",
       "\t<li>0</li>\n",
       "\t<li>0</li>\n",
       "\t<li>0</li>\n",
       "\t<li>&lt;NA&gt;</li>\n",
       "\t<li>27</li>\n",
       "\t<li>37</li>\n",
       "\t<li>34</li>\n",
       "</ol>\n"
      ],
      "text/latex": [
       "\\begin{enumerate*}\n",
       "\\item 0\n",
       "\\item 0\n",
       "\\item 0\n",
       "\\item 0\n",
       "\\item 0\n",
       "\\item 0\n",
       "\\item <NA>\n",
       "\\item 27\n",
       "\\item 37\n",
       "\\item 34\n",
       "\\end{enumerate*}\n"
      ],
      "text/markdown": [
       "1. 0\n",
       "2. 0\n",
       "3. 0\n",
       "4. 0\n",
       "5. 0\n",
       "6. 0\n",
       "7. &lt;NA&gt;\n",
       "8. 27\n",
       "9. 37\n",
       "10. 34\n",
       "\n",
       "\n"
      ],
      "text/plain": [
       " [1]  0  0  0  0  0  0 NA 27 37 34"
      ]
     },
     "metadata": {},
     "output_type": "display_data"
    }
   ],
   "source": [
    "head(batting$X2B,10)"
   ]
  },
  {
   "cell_type": "code",
   "execution_count": null,
   "metadata": {},
   "outputs": [],
   "source": []
  },
  {
   "cell_type": "markdown",
   "metadata": {},
   "source": [
    "### Feature Engineering"
   ]
  },
  {
   "cell_type": "markdown",
   "metadata": {},
   "source": [
    "#### We need to add three more statistics to our dataset:\n",
    "\n",
    "##### Batting Average\n",
    "##### On-Base Percentage (OBP)\n",
    "##### Slugging Percentage"
   ]
  },
  {
   "cell_type": "code",
   "execution_count": 8,
   "metadata": {
    "ExecuteTime": {
     "end_time": "2020-12-04T05:09:15.727817Z",
     "start_time": "2020-12-04T05:09:15.710Z"
    }
   },
   "outputs": [],
   "source": [
    "batting$BA <- batting$H / batting$AB"
   ]
  },
  {
   "cell_type": "markdown",
   "metadata": {},
   "source": [
    "##### Check tail of new column for data validation"
   ]
  },
  {
   "cell_type": "code",
   "execution_count": 9,
   "metadata": {
    "ExecuteTime": {
     "end_time": "2020-12-04T05:10:36.246733Z",
     "start_time": "2020-12-04T05:10:36.214Z"
    }
   },
   "outputs": [
    {
     "data": {
      "text/html": [
       "<ol class=list-inline>\n",
       "\t<li>0.123076923076923</li>\n",
       "\t<li>0.274647887323944</li>\n",
       "\t<li>0.147058823529412</li>\n",
       "\t<li>0.274509803921569</li>\n",
       "\t<li>0.213872832369942</li>\n",
       "</ol>\n"
      ],
      "text/latex": [
       "\\begin{enumerate*}\n",
       "\\item 0.123076923076923\n",
       "\\item 0.274647887323944\n",
       "\\item 0.147058823529412\n",
       "\\item 0.274509803921569\n",
       "\\item 0.213872832369942\n",
       "\\end{enumerate*}\n"
      ],
      "text/markdown": [
       "1. 0.123076923076923\n",
       "2. 0.274647887323944\n",
       "3. 0.147058823529412\n",
       "4. 0.274509803921569\n",
       "5. 0.213872832369942\n",
       "\n",
       "\n"
      ],
      "text/plain": [
       "[1] 0.1230769 0.2746479 0.1470588 0.2745098 0.2138728"
      ]
     },
     "metadata": {},
     "output_type": "display_data"
    }
   ],
   "source": [
    "tail(batting$BA,5)"
   ]
  },
  {
   "cell_type": "code",
   "execution_count": null,
   "metadata": {},
   "outputs": [],
   "source": []
  },
  {
   "cell_type": "markdown",
   "metadata": {},
   "source": [
    "###### On-Base Percentage"
   ]
  },
  {
   "cell_type": "code",
   "execution_count": 10,
   "metadata": {
    "ExecuteTime": {
     "end_time": "2020-12-04T05:15:24.461438Z",
     "start_time": "2020-12-04T05:15:24.442Z"
    }
   },
   "outputs": [],
   "source": [
    "batting$OBP <- (batting$H + batting$BB + batting$HBP) / (batting$AB + batting$BB + batting$HBP + batting$SF)"
   ]
  },
  {
   "cell_type": "code",
   "execution_count": 20,
   "metadata": {
    "ExecuteTime": {
     "end_time": "2020-12-04T05:31:32.032490Z",
     "start_time": "2020-12-04T05:31:32.015Z"
    }
   },
   "outputs": [],
   "source": [
    "##### Check tail of new column for data validation"
   ]
  },
  {
   "cell_type": "markdown",
   "metadata": {
    "ExecuteTime": {
     "end_time": "2020-12-04T05:32:11.367856Z",
     "start_time": "2020-12-04T05:32:11.342Z"
    }
   },
   "source": [
    "##### Check tail of new column for data validation"
   ]
  },
  {
   "cell_type": "code",
   "execution_count": 21,
   "metadata": {
    "ExecuteTime": {
     "end_time": "2020-12-04T05:32:01.023858Z",
     "start_time": "2020-12-04T05:32:01.003Z"
    }
   },
   "outputs": [
    {
     "data": {
      "text/html": [
       "<ol class=list-inline>\n",
       "\t<li>0.134328358208955</li>\n",
       "\t<li>0.344391785150079</li>\n",
       "\t<li>0.147058823529412</li>\n",
       "\t<li>0.354375896700143</li>\n",
       "\t<li>0.290155440414508</li>\n",
       "</ol>\n"
      ],
      "text/latex": [
       "\\begin{enumerate*}\n",
       "\\item 0.134328358208955\n",
       "\\item 0.344391785150079\n",
       "\\item 0.147058823529412\n",
       "\\item 0.354375896700143\n",
       "\\item 0.290155440414508\n",
       "\\end{enumerate*}\n"
      ],
      "text/markdown": [
       "1. 0.134328358208955\n",
       "2. 0.344391785150079\n",
       "3. 0.147058823529412\n",
       "4. 0.354375896700143\n",
       "5. 0.290155440414508\n",
       "\n",
       "\n"
      ],
      "text/plain": [
       "[1] 0.1343284 0.3443918 0.1470588 0.3543759 0.2901554"
      ]
     },
     "metadata": {},
     "output_type": "display_data"
    }
   ],
   "source": [
    "tail(batting$OBP,5)"
   ]
  },
  {
   "cell_type": "code",
   "execution_count": null,
   "metadata": {},
   "outputs": [],
   "source": []
  },
  {
   "cell_type": "markdown",
   "metadata": {},
   "source": [
    "###### Extra Base Hits"
   ]
  },
  {
   "cell_type": "code",
   "execution_count": 12,
   "metadata": {
    "ExecuteTime": {
     "end_time": "2020-12-04T05:19:30.142048Z",
     "start_time": "2020-12-04T05:19:30.123Z"
    }
   },
   "outputs": [],
   "source": [
    "batting$X1B <- (batting$X2B + batting$X3B + batting$HR)"
   ]
  },
  {
   "cell_type": "markdown",
   "metadata": {},
   "source": [
    "##### Check head of new column for data validation"
   ]
  },
  {
   "cell_type": "code",
   "execution_count": 13,
   "metadata": {
    "ExecuteTime": {
     "end_time": "2020-12-04T05:19:53.129865Z",
     "start_time": "2020-12-04T05:19:53.101Z"
    }
   },
   "outputs": [
    {
     "data": {
      "text/html": [
       "<table>\n",
       "<thead><tr><th scope=col>playerID</th><th scope=col>yearID</th><th scope=col>stint</th><th scope=col>teamID</th><th scope=col>lgID</th><th scope=col>G</th><th scope=col>G_batting</th><th scope=col>AB</th><th scope=col>R</th><th scope=col>H</th><th scope=col>...</th><th scope=col>SO</th><th scope=col>IBB</th><th scope=col>HBP</th><th scope=col>SH</th><th scope=col>SF</th><th scope=col>GIDP</th><th scope=col>G_old</th><th scope=col>BA</th><th scope=col>OBP</th><th scope=col>X1B</th></tr></thead>\n",
       "<tbody>\n",
       "\t<tr><td>aardsda01</td><td>2004     </td><td>1        </td><td>SFN      </td><td>NL       </td><td>11       </td><td>11       </td><td>0        </td><td>0        </td><td>0        </td><td>...      </td><td>0        </td><td>0        </td><td>0        </td><td>0        </td><td>0        </td><td>0        </td><td>11       </td><td>NaN      </td><td>NaN      </td><td>0        </td></tr>\n",
       "\t<tr><td>aardsda01</td><td>2006     </td><td>1        </td><td>CHN      </td><td>NL       </td><td>45       </td><td>43       </td><td>2        </td><td>0        </td><td>0        </td><td>...      </td><td>0        </td><td>0        </td><td>0        </td><td>1        </td><td>0        </td><td>0        </td><td>45       </td><td>  0      </td><td>  0      </td><td>0        </td></tr>\n",
       "\t<tr><td>aardsda01</td><td>2007     </td><td>1        </td><td>CHA      </td><td>AL       </td><td>25       </td><td> 2       </td><td>0        </td><td>0        </td><td>0        </td><td>...      </td><td>0        </td><td>0        </td><td>0        </td><td>0        </td><td>0        </td><td>0        </td><td> 2       </td><td>NaN      </td><td>NaN      </td><td>0        </td></tr>\n",
       "\t<tr><td>aardsda01</td><td>2008     </td><td>1        </td><td>BOS      </td><td>AL       </td><td>47       </td><td> 5       </td><td>1        </td><td>0        </td><td>0        </td><td>...      </td><td>1        </td><td>0        </td><td>0        </td><td>0        </td><td>0        </td><td>0        </td><td> 5       </td><td>  0      </td><td>  0      </td><td>0        </td></tr>\n",
       "\t<tr><td>aardsda01</td><td>2009     </td><td>1        </td><td>SEA      </td><td>AL       </td><td>73       </td><td> 3       </td><td>0        </td><td>0        </td><td>0        </td><td>...      </td><td>0        </td><td>0        </td><td>0        </td><td>0        </td><td>0        </td><td>0        </td><td>NA       </td><td>NaN      </td><td>NaN      </td><td>0        </td></tr>\n",
       "\t<tr><td>aardsda01</td><td>2010     </td><td>1        </td><td>SEA      </td><td>AL       </td><td>53       </td><td> 4       </td><td>0        </td><td>0        </td><td>0        </td><td>...      </td><td>0        </td><td>0        </td><td>0        </td><td>0        </td><td>0        </td><td>0        </td><td>NA       </td><td>NaN      </td><td>NaN      </td><td>0        </td></tr>\n",
       "</tbody>\n",
       "</table>\n"
      ],
      "text/latex": [
       "\\begin{tabular}{r|lllllllllllllllllllllllllll}\n",
       " playerID & yearID & stint & teamID & lgID & G & G\\_batting & AB & R & H & ... & SO & IBB & HBP & SH & SF & GIDP & G\\_old & BA & OBP & X1B\\\\\n",
       "\\hline\n",
       "\t aardsda01 & 2004      & 1         & SFN       & NL        & 11        & 11        & 0         & 0         & 0         & ...       & 0         & 0         & 0         & 0         & 0         & 0         & 11        & NaN       & NaN       & 0        \\\\\n",
       "\t aardsda01 & 2006      & 1         & CHN       & NL        & 45        & 43        & 2         & 0         & 0         & ...       & 0         & 0         & 0         & 1         & 0         & 0         & 45        &   0       &   0       & 0        \\\\\n",
       "\t aardsda01 & 2007      & 1         & CHA       & AL        & 25        &  2        & 0         & 0         & 0         & ...       & 0         & 0         & 0         & 0         & 0         & 0         &  2        & NaN       & NaN       & 0        \\\\\n",
       "\t aardsda01 & 2008      & 1         & BOS       & AL        & 47        &  5        & 1         & 0         & 0         & ...       & 1         & 0         & 0         & 0         & 0         & 0         &  5        &   0       &   0       & 0        \\\\\n",
       "\t aardsda01 & 2009      & 1         & SEA       & AL        & 73        &  3        & 0         & 0         & 0         & ...       & 0         & 0         & 0         & 0         & 0         & 0         & NA        & NaN       & NaN       & 0        \\\\\n",
       "\t aardsda01 & 2010      & 1         & SEA       & AL        & 53        &  4        & 0         & 0         & 0         & ...       & 0         & 0         & 0         & 0         & 0         & 0         & NA        & NaN       & NaN       & 0        \\\\\n",
       "\\end{tabular}\n"
      ],
      "text/markdown": [
       "\n",
       "| playerID | yearID | stint | teamID | lgID | G | G_batting | AB | R | H | ... | SO | IBB | HBP | SH | SF | GIDP | G_old | BA | OBP | X1B |\n",
       "|---|---|---|---|---|---|---|---|---|---|---|---|---|---|---|---|---|---|---|---|---|\n",
       "| aardsda01 | 2004      | 1         | SFN       | NL        | 11        | 11        | 0         | 0         | 0         | ...       | 0         | 0         | 0         | 0         | 0         | 0         | 11        | NaN       | NaN       | 0         |\n",
       "| aardsda01 | 2006      | 1         | CHN       | NL        | 45        | 43        | 2         | 0         | 0         | ...       | 0         | 0         | 0         | 1         | 0         | 0         | 45        |   0       |   0       | 0         |\n",
       "| aardsda01 | 2007      | 1         | CHA       | AL        | 25        |  2        | 0         | 0         | 0         | ...       | 0         | 0         | 0         | 0         | 0         | 0         |  2        | NaN       | NaN       | 0         |\n",
       "| aardsda01 | 2008      | 1         | BOS       | AL        | 47        |  5        | 1         | 0         | 0         | ...       | 1         | 0         | 0         | 0         | 0         | 0         |  5        |   0       |   0       | 0         |\n",
       "| aardsda01 | 2009      | 1         | SEA       | AL        | 73        |  3        | 0         | 0         | 0         | ...       | 0         | 0         | 0         | 0         | 0         | 0         | NA        | NaN       | NaN       | 0         |\n",
       "| aardsda01 | 2010      | 1         | SEA       | AL        | 53        |  4        | 0         | 0         | 0         | ...       | 0         | 0         | 0         | 0         | 0         | 0         | NA        | NaN       | NaN       | 0         |\n",
       "\n"
      ],
      "text/plain": [
       "  playerID  yearID stint teamID lgID G  G_batting AB R H ... SO IBB HBP SH SF\n",
       "1 aardsda01 2004   1     SFN    NL   11 11        0  0 0 ... 0  0   0   0  0 \n",
       "2 aardsda01 2006   1     CHN    NL   45 43        2  0 0 ... 0  0   0   1  0 \n",
       "3 aardsda01 2007   1     CHA    AL   25  2        0  0 0 ... 0  0   0   0  0 \n",
       "4 aardsda01 2008   1     BOS    AL   47  5        1  0 0 ... 1  0   0   0  0 \n",
       "5 aardsda01 2009   1     SEA    AL   73  3        0  0 0 ... 0  0   0   0  0 \n",
       "6 aardsda01 2010   1     SEA    AL   53  4        0  0 0 ... 0  0   0   0  0 \n",
       "  GIDP G_old BA  OBP X1B\n",
       "1 0    11    NaN NaN 0  \n",
       "2 0    45      0   0 0  \n",
       "3 0     2    NaN NaN 0  \n",
       "4 0     5      0   0 0  \n",
       "5 0    NA    NaN NaN 0  \n",
       "6 0    NA    NaN NaN 0  "
      ]
     },
     "metadata": {},
     "output_type": "display_data"
    }
   ],
   "source": [
    "head(batting)"
   ]
  },
  {
   "cell_type": "code",
   "execution_count": null,
   "metadata": {},
   "outputs": [],
   "source": []
  },
  {
   "cell_type": "markdown",
   "metadata": {},
   "source": [
    "###### Slugging Percentage"
   ]
  },
  {
   "cell_type": "code",
   "execution_count": 16,
   "metadata": {
    "ExecuteTime": {
     "end_time": "2020-12-04T05:29:52.322682Z",
     "start_time": "2020-12-04T05:29:52.300Z"
    }
   },
   "outputs": [],
   "source": [
    "batting$SLG <- ((batting$H)+(2 * batting$X2B)+(3*batting$X3B)+(4*batting$HR)/(batting$AB))"
   ]
  },
  {
   "cell_type": "code",
   "execution_count": 23,
   "metadata": {
    "ExecuteTime": {
     "end_time": "2020-12-04T05:32:51.121874Z",
     "start_time": "2020-12-04T05:32:51.106Z"
    }
   },
   "outputs": [],
   "source": [
    "##### Check head & tail of new column for data validation"
   ]
  },
  {
   "cell_type": "code",
   "execution_count": 17,
   "metadata": {
    "ExecuteTime": {
     "end_time": "2020-12-04T05:30:03.753865Z",
     "start_time": "2020-12-04T05:30:03.734Z"
    }
   },
   "outputs": [
    {
     "data": {
      "text/html": [
       "<ol class=list-inline>\n",
       "\t<li>NaN</li>\n",
       "\t<li>0</li>\n",
       "\t<li>NaN</li>\n",
       "\t<li>0</li>\n",
       "\t<li>NaN</li>\n",
       "\t<li>NaN</li>\n",
       "</ol>\n"
      ],
      "text/latex": [
       "\\begin{enumerate*}\n",
       "\\item NaN\n",
       "\\item 0\n",
       "\\item NaN\n",
       "\\item 0\n",
       "\\item NaN\n",
       "\\item NaN\n",
       "\\end{enumerate*}\n"
      ],
      "text/markdown": [
       "1. NaN\n",
       "2. 0\n",
       "3. NaN\n",
       "4. 0\n",
       "5. NaN\n",
       "6. NaN\n",
       "\n",
       "\n"
      ],
      "text/plain": [
       "[1] NaN   0 NaN   0 NaN NaN"
      ]
     },
     "metadata": {},
     "output_type": "display_data"
    }
   ],
   "source": [
    "head(batting$SLG)"
   ]
  },
  {
   "cell_type": "code",
   "execution_count": 19,
   "metadata": {
    "ExecuteTime": {
     "end_time": "2020-12-04T05:30:36.472921Z",
     "start_time": "2020-12-04T05:30:36.454Z"
    }
   },
   "outputs": [
    {
     "data": {
      "text/html": [
       "<ol class=list-inline>\n",
       "\t<li>0</li>\n",
       "\t<li>10</li>\n",
       "\t<li>214.183098591549</li>\n",
       "\t<li>5</li>\n",
       "\t<li>249.078431372549</li>\n",
       "\t<li>47.1156069364162</li>\n",
       "</ol>\n"
      ],
      "text/latex": [
       "\\begin{enumerate*}\n",
       "\\item 0\n",
       "\\item 10\n",
       "\\item 214.183098591549\n",
       "\\item 5\n",
       "\\item 249.078431372549\n",
       "\\item 47.1156069364162\n",
       "\\end{enumerate*}\n"
      ],
      "text/markdown": [
       "1. 0\n",
       "2. 10\n",
       "3. 214.183098591549\n",
       "4. 5\n",
       "5. 249.078431372549\n",
       "6. 47.1156069364162\n",
       "\n",
       "\n"
      ],
      "text/plain": [
       "[1]   0.00000  10.00000 214.18310   5.00000 249.07843  47.11561"
      ]
     },
     "metadata": {},
     "output_type": "display_data"
    }
   ],
   "source": [
    "tail(batting$SLG)"
   ]
  },
  {
   "cell_type": "code",
   "execution_count": null,
   "metadata": {},
   "outputs": [],
   "source": []
  },
  {
   "cell_type": "markdown",
   "metadata": {},
   "source": [
    "#### Check Data Structure"
   ]
  },
  {
   "cell_type": "code",
   "execution_count": 24,
   "metadata": {
    "ExecuteTime": {
     "end_time": "2020-12-04T05:33:23.539812Z",
     "start_time": "2020-12-04T05:33:23.511Z"
    }
   },
   "outputs": [
    {
     "name": "stdout",
     "output_type": "stream",
     "text": [
      "'data.frame':\t97889 obs. of  28 variables:\n",
      " $ playerID : Factor w/ 18107 levels \"aardsda01\",\"aaronha01\",..: 1 1 1 1 1 1 1 2 2 2 ...\n",
      " $ yearID   : int  2004 2006 2007 2008 2009 2010 2012 1954 1955 1956 ...\n",
      " $ stint    : int  1 1 1 1 1 1 1 1 1 1 ...\n",
      " $ teamID   : Factor w/ 149 levels \"ALT\",\"ANA\",\"ARI\",..: 117 35 33 16 116 116 93 80 80 80 ...\n",
      " $ lgID     : Factor w/ 6 levels \"AA\",\"AL\",\"FL\",..: 4 4 2 2 2 2 2 4 4 4 ...\n",
      " $ G        : int  11 45 25 47 73 53 1 122 153 153 ...\n",
      " $ G_batting: int  11 43 2 5 3 4 NA 122 153 153 ...\n",
      " $ AB       : int  0 2 0 1 0 0 NA 468 602 609 ...\n",
      " $ R        : int  0 0 0 0 0 0 NA 58 105 106 ...\n",
      " $ H        : int  0 0 0 0 0 0 NA 131 189 200 ...\n",
      " $ X2B      : int  0 0 0 0 0 0 NA 27 37 34 ...\n",
      " $ X3B      : int  0 0 0 0 0 0 NA 6 9 14 ...\n",
      " $ HR       : int  0 0 0 0 0 0 NA 13 27 26 ...\n",
      " $ RBI      : int  0 0 0 0 0 0 NA 69 106 92 ...\n",
      " $ SB       : int  0 0 0 0 0 0 NA 2 3 2 ...\n",
      " $ CS       : int  0 0 0 0 0 0 NA 2 1 4 ...\n",
      " $ BB       : int  0 0 0 0 0 0 NA 28 49 37 ...\n",
      " $ SO       : int  0 0 0 1 0 0 NA 39 61 54 ...\n",
      " $ IBB      : int  0 0 0 0 0 0 NA NA 5 6 ...\n",
      " $ HBP      : int  0 0 0 0 0 0 NA 3 3 2 ...\n",
      " $ SH       : int  0 1 0 0 0 0 NA 6 7 5 ...\n",
      " $ SF       : int  0 0 0 0 0 0 NA 4 4 7 ...\n",
      " $ GIDP     : int  0 0 0 0 0 0 NA 13 20 21 ...\n",
      " $ G_old    : int  11 45 2 5 NA NA NA 122 153 153 ...\n",
      " $ BA       : num  NaN 0 NaN 0 NaN ...\n",
      " $ OBP      : num  NaN 0 NaN 0 NaN ...\n",
      " $ X1B      : int  0 0 0 0 0 0 NA 46 73 74 ...\n",
      " $ SLG      : num  NaN 0 NaN 0 NaN ...\n"
     ]
    }
   ],
   "source": [
    "str(batting)"
   ]
  },
  {
   "cell_type": "code",
   "execution_count": null,
   "metadata": {},
   "outputs": [],
   "source": []
  },
  {
   "cell_type": "markdown",
   "metadata": {},
   "source": [
    "### Merging Salary Data with Batting Data"
   ]
  },
  {
   "cell_type": "code",
   "execution_count": 28,
   "metadata": {
    "ExecuteTime": {
     "end_time": "2020-12-04T05:42:27.420253Z",
     "start_time": "2020-12-04T05:42:27.355Z"
    }
   },
   "outputs": [],
   "source": [
    "sal <- read.csv('Salaries.csv')"
   ]
  },
  {
   "cell_type": "markdown",
   "metadata": {},
   "source": [
    "##### Batting DF Summary Statistics"
   ]
  },
  {
   "cell_type": "code",
   "execution_count": 27,
   "metadata": {
    "ExecuteTime": {
     "end_time": "2020-12-04T05:42:09.376113Z",
     "start_time": "2020-12-04T05:42:09.219Z"
    }
   },
   "outputs": [
    {
     "data": {
      "text/plain": [
       "      playerID         yearID         stint           teamID        lgID      \n",
       " mcguide01:   31   Min.   :1871   Min.   :1.000   CHN    : 4720   AA  : 1890  \n",
       " henderi01:   29   1st Qu.:1931   1st Qu.:1.000   PHI    : 4621   AL  :44369  \n",
       " newsobo01:   29   Median :1970   Median :1.000   PIT    : 4575   FL  :  470  \n",
       " johnto01 :   28   Mean   :1962   Mean   :1.077   SLN    : 4535   NL  :49944  \n",
       " kaatji01 :   28   3rd Qu.:1995   3rd Qu.:1.000   CIN    : 4393   PL  :  147  \n",
       " ansonca01:   27   Max.   :2013   Max.   :5.000   CLE    : 4318   UA  :  332  \n",
       " (Other)  :97717                                  (Other):70727   NA's:  737  \n",
       "       G            G_batting            AB              R         \n",
       " Min.   :  1.00   Min.   :  0.00   Min.   :  0.0   Min.   :  0.00  \n",
       " 1st Qu.: 13.00   1st Qu.:  7.00   1st Qu.:  9.0   1st Qu.:  0.00  \n",
       " Median : 35.00   Median : 32.00   Median : 61.0   Median :  5.00  \n",
       " Mean   : 51.65   Mean   : 49.13   Mean   :154.1   Mean   : 20.47  \n",
       " 3rd Qu.: 81.00   3rd Qu.: 81.00   3rd Qu.:260.0   3rd Qu.: 31.00  \n",
       " Max.   :165.00   Max.   :165.00   Max.   :716.0   Max.   :192.00  \n",
       "                  NA's   :1406     NA's   :6413    NA's   :6413    \n",
       "       H               X2B            X3B               HR        \n",
       " Min.   :  0.00   Min.   : 0.0   Min.   : 0.000   Min.   : 0.000  \n",
       " 1st Qu.:  1.00   1st Qu.: 0.0   1st Qu.: 0.000   1st Qu.: 0.000  \n",
       " Median : 12.00   Median : 2.0   Median : 0.000   Median : 0.000  \n",
       " Mean   : 40.37   Mean   : 6.8   Mean   : 1.424   Mean   : 3.002  \n",
       " 3rd Qu.: 66.00   3rd Qu.:10.0   3rd Qu.: 2.000   3rd Qu.: 3.000  \n",
       " Max.   :262.00   Max.   :67.0   Max.   :36.000   Max.   :73.000  \n",
       " NA's   :6413     NA's   :6413   NA's   :6413     NA's   :6413    \n",
       "      RBI               SB                CS               BB        \n",
       " Min.   :  0.00   Min.   :  0.000   Min.   : 0.000   Min.   :  0.00  \n",
       " 1st Qu.:  0.00   1st Qu.:  0.000   1st Qu.: 0.000   1st Qu.:  0.00  \n",
       " Median :  5.00   Median :  0.000   Median : 0.000   Median :  4.00  \n",
       " Mean   : 18.47   Mean   :  3.265   Mean   : 1.385   Mean   : 14.21  \n",
       " 3rd Qu.: 28.00   3rd Qu.:  2.000   3rd Qu.: 1.000   3rd Qu.: 21.00  \n",
       " Max.   :191.00   Max.   :138.000   Max.   :42.000   Max.   :232.00  \n",
       " NA's   :6837     NA's   :7713      NA's   :29867    NA's   :6413    \n",
       "       SO              IBB              HBP               SH        \n",
       " Min.   :  0.00   Min.   :  0.00   Min.   : 0.000   Min.   : 0.000  \n",
       " 1st Qu.:  2.00   1st Qu.:  0.00   1st Qu.: 0.000   1st Qu.: 0.000  \n",
       " Median : 11.00   Median :  0.00   Median : 0.000   Median : 1.000  \n",
       " Mean   : 21.95   Mean   :  1.28   Mean   : 1.136   Mean   : 2.564  \n",
       " 3rd Qu.: 31.00   3rd Qu.:  1.00   3rd Qu.: 1.000   3rd Qu.: 3.000  \n",
       " Max.   :223.00   Max.   :120.00   Max.   :51.000   Max.   :67.000  \n",
       " NA's   :14251    NA's   :42977    NA's   :9233     NA's   :12751   \n",
       "       SF             GIDP           G_old              BA       \n",
       " Min.   : 0.0    Min.   : 0.00   Min.   :  0.00   Min.   :0.000  \n",
       " 1st Qu.: 0.0    1st Qu.: 0.00   1st Qu.: 11.00   1st Qu.:0.148  \n",
       " Median : 0.0    Median : 1.00   Median : 34.00   Median :0.231  \n",
       " Mean   : 1.2    Mean   : 3.33   Mean   : 50.99   Mean   :0.209  \n",
       " 3rd Qu.: 2.0    3rd Qu.: 5.00   3rd Qu.: 82.00   3rd Qu.:0.275  \n",
       " Max.   :19.0    Max.   :36.00   Max.   :165.00   Max.   :1.000  \n",
       " NA's   :42446   NA's   :32521   NA's   :5189     NA's   :13520  \n",
       "      OBP             X1B              SLG        \n",
       " Min.   :0.00    Min.   :  0.00   Min.   :  0.00  \n",
       " 1st Qu.:0.19    1st Qu.:  0.00   1st Qu.:  3.00  \n",
       " Median :0.29    Median :  2.00   Median : 21.03  \n",
       " Mean   :0.26    Mean   : 11.23   Mean   : 63.19  \n",
       " 3rd Qu.:0.34    3rd Qu.: 16.00   3rd Qu.:105.18  \n",
       " Max.   :1.00    Max.   :119.00   Max.   :414.05  \n",
       " NA's   :49115   NA's   :6413     NA's   :13520   "
      ]
     },
     "metadata": {},
     "output_type": "display_data"
    }
   ],
   "source": [
    "summary(batting)"
   ]
  },
  {
   "cell_type": "code",
   "execution_count": null,
   "metadata": {},
   "outputs": [],
   "source": []
  },
  {
   "cell_type": "markdown",
   "metadata": {},
   "source": [
    "##### Subset of Years 1985 and later"
   ]
  },
  {
   "cell_type": "code",
   "execution_count": 29,
   "metadata": {
    "ExecuteTime": {
     "end_time": "2020-12-04T05:43:50.903373Z",
     "start_time": "2020-12-04T05:43:50.863Z"
    }
   },
   "outputs": [],
   "source": [
    "batting <- subset(batting,yearID >= 1985)"
   ]
  },
  {
   "cell_type": "code",
   "execution_count": null,
   "metadata": {},
   "outputs": [],
   "source": []
  },
  {
   "cell_type": "markdown",
   "metadata": {},
   "source": [
    "##### Verify new subset"
   ]
  },
  {
   "cell_type": "code",
   "execution_count": 30,
   "metadata": {
    "ExecuteTime": {
     "end_time": "2020-12-04T05:47:27.619643Z",
     "start_time": "2020-12-04T05:47:27.570Z"
    }
   },
   "outputs": [
    {
     "data": {
      "text/plain": [
       "      playerID         yearID         stint          teamID      lgID      \n",
       " moyerja01:   27   Min.   :1985   Min.   :1.00   SDN    : 1313   AA:    0  \n",
       " mulhote01:   26   1st Qu.:1993   1st Qu.:1.00   CLE    : 1306   AL:17226  \n",
       " weathda01:   26   Median :2000   Median :1.00   PIT    : 1299   FL:    0  \n",
       " maddugr01:   25   Mean   :2000   Mean   :1.08   NYN    : 1297   NL:18426  \n",
       " sierrru01:   25   3rd Qu.:2007   3rd Qu.:1.00   BOS    : 1279   PL:    0  \n",
       " thomeji01:   25   Max.   :2013   Max.   :4.00   CIN    : 1279   UA:    0  \n",
       " (Other)  :35498                                 (Other):27879             \n",
       "       G           G_batting            AB              R         \n",
       " Min.   :  1.0   Min.   :  0.00   Min.   :  0.0   Min.   :  0.00  \n",
       " 1st Qu.: 14.0   1st Qu.:  4.00   1st Qu.:  3.0   1st Qu.:  0.00  \n",
       " Median : 34.0   Median : 27.00   Median : 47.0   Median :  4.00  \n",
       " Mean   : 51.7   Mean   : 46.28   Mean   :144.7   Mean   : 19.44  \n",
       " 3rd Qu.: 77.0   3rd Qu.: 77.00   3rd Qu.:241.0   3rd Qu.: 30.00  \n",
       " Max.   :163.0   Max.   :163.00   Max.   :716.0   Max.   :152.00  \n",
       "                 NA's   :1406     NA's   :4377    NA's   :4377    \n",
       "       H               X2B              X3B               HR        \n",
       " Min.   :  0.00   Min.   : 0.000   Min.   : 0.000   Min.   : 0.000  \n",
       " 1st Qu.:  0.00   1st Qu.: 0.000   1st Qu.: 0.000   1st Qu.: 0.000  \n",
       " Median :  8.00   Median : 1.000   Median : 0.000   Median : 0.000  \n",
       " Mean   : 37.95   Mean   : 7.293   Mean   : 0.824   Mean   : 4.169  \n",
       " 3rd Qu.: 61.00   3rd Qu.:11.000   3rd Qu.: 1.000   3rd Qu.: 5.000  \n",
       " Max.   :262.00   Max.   :59.000   Max.   :23.000   Max.   :73.000  \n",
       " NA's   :4377     NA's   :4377     NA's   :4377     NA's   :4377    \n",
       "      RBI               SB                CS               BB        \n",
       " Min.   :  0.00   Min.   :  0.000   Min.   : 0.000   Min.   :  0.00  \n",
       " 1st Qu.:  0.00   1st Qu.:  0.000   1st Qu.: 0.000   1st Qu.:  0.00  \n",
       " Median :  3.00   Median :  0.000   Median : 0.000   Median :  3.00  \n",
       " Mean   : 18.41   Mean   :  2.811   Mean   : 1.219   Mean   : 14.06  \n",
       " 3rd Qu.: 27.00   3rd Qu.:  2.000   3rd Qu.: 1.000   3rd Qu.: 21.00  \n",
       " Max.   :165.00   Max.   :110.000   Max.   :29.000   Max.   :232.00  \n",
       " NA's   :4377     NA's   :4377      NA's   :4377     NA's   :4377    \n",
       "       SO              IBB               HBP               SH        \n",
       " Min.   :  0.00   Min.   :  0.000   Min.   : 0.000   Min.   : 0.000  \n",
       " 1st Qu.:  1.00   1st Qu.:  0.000   1st Qu.: 0.000   1st Qu.: 0.000  \n",
       " Median : 12.00   Median :  0.000   Median : 0.000   Median : 0.000  \n",
       " Mean   : 27.03   Mean   :  1.171   Mean   : 1.273   Mean   : 1.465  \n",
       " 3rd Qu.: 42.00   3rd Qu.:  1.000   3rd Qu.: 1.000   3rd Qu.: 2.000  \n",
       " Max.   :223.00   Max.   :120.000   Max.   :35.000   Max.   :39.000  \n",
       " NA's   :4377     NA's   :4378      NA's   :4387     NA's   :4377    \n",
       "       SF              GIDP           G_old             BA       \n",
       " Min.   : 0.000   Min.   : 0.00   Min.   :  0.0   Min.   :0.000  \n",
       " 1st Qu.: 0.000   1st Qu.: 0.00   1st Qu.: 11.0   1st Qu.:0.136  \n",
       " Median : 0.000   Median : 1.00   Median : 32.0   Median :0.233  \n",
       " Mean   : 1.212   Mean   : 3.25   Mean   : 49.7   Mean   :0.205  \n",
       " 3rd Qu.: 2.000   3rd Qu.: 5.00   3rd Qu.: 77.0   3rd Qu.:0.274  \n",
       " Max.   :17.000   Max.   :35.00   Max.   :163.0   Max.   :1.000  \n",
       " NA's   :4378     NA's   :4377    NA's   :5189    NA's   :8905   \n",
       "      OBP             X1B              SLG        \n",
       " Min.   :0.000   Min.   :  0.00   Min.   :  0.00  \n",
       " 1st Qu.:0.188   1st Qu.:  0.00   1st Qu.:  2.00  \n",
       " Median :0.296   Median :  2.00   Median : 23.00  \n",
       " Mean   :0.262   Mean   : 12.29   Mean   : 64.39  \n",
       " 3rd Qu.:0.342   3rd Qu.: 18.00   3rd Qu.:110.07  \n",
       " Max.   :1.000   Max.   :107.00   Max.   :352.05  \n",
       " NA's   :8821    NA's   :4377     NA's   :8905    "
      ]
     },
     "metadata": {},
     "output_type": "display_data"
    }
   ],
   "source": [
    "summary(batting)"
   ]
  },
  {
   "cell_type": "code",
   "execution_count": null,
   "metadata": {},
   "outputs": [],
   "source": []
  },
  {
   "cell_type": "markdown",
   "metadata": {},
   "source": [
    " ##### Merging the batting and sal data frames by c('playerID','yearID')."
   ]
  },
  {
   "cell_type": "code",
   "execution_count": 31,
   "metadata": {
    "ExecuteTime": {
     "end_time": "2020-12-04T05:52:15.007089Z",
     "start_time": "2020-12-04T05:52:14.847Z"
    }
   },
   "outputs": [],
   "source": [
    "combo <- merge(batting,sal,by=c('playerID','yearID'))"
   ]
  },
  {
   "cell_type": "markdown",
   "metadata": {
    "ExecuteTime": {
     "end_time": "2020-12-04T05:58:29.122353Z",
     "start_time": "2020-12-04T05:58:29.092Z"
    }
   },
   "source": []
  },
  {
   "cell_type": "markdown",
   "metadata": {
    "ExecuteTime": {
     "end_time": "2020-12-04T05:59:00.511999Z",
     "start_time": "2020-12-04T05:59:00.490Z"
    }
   },
   "source": [
    "##### Summary Statistics of Combo DataFrame"
   ]
  },
  {
   "cell_type": "code",
   "execution_count": 35,
   "metadata": {
    "ExecuteTime": {
     "end_time": "2020-12-04T05:59:12.489530Z",
     "start_time": "2020-12-04T05:59:12.373Z"
    }
   },
   "outputs": [
    {
     "data": {
      "text/plain": [
       "      playerID         yearID         stint          teamID.x     lgID.x    \n",
       " moyerja01:   27   Min.   :1985   Min.   :1.000   LAN    :  940   AA:    0  \n",
       " thomeji01:   25   1st Qu.:1993   1st Qu.:1.000   PHI    :  937   AL:12292  \n",
       " weathda01:   25   Median :1999   Median :1.000   BOS    :  935   FL:    0  \n",
       " vizquom01:   24   Mean   :1999   Mean   :1.098   NYA    :  928   NL:13105  \n",
       " gaettga01:   23   3rd Qu.:2006   3rd Qu.:1.000   CLE    :  920   PL:    0  \n",
       " griffke02:   23   Max.   :2013   Max.   :4.000   SDN    :  914   UA:    0  \n",
       " (Other)  :25250                                  (Other):19823             \n",
       "       G            G_batting            AB              R         \n",
       " Min.   :  1.00   Min.   :  0.00   Min.   :  0.0   Min.   :  0.00  \n",
       " 1st Qu.: 26.00   1st Qu.:  8.00   1st Qu.:  5.0   1st Qu.:  0.00  \n",
       " Median : 50.00   Median : 42.00   Median : 85.0   Median :  9.00  \n",
       " Mean   : 64.06   Mean   : 57.58   Mean   :182.4   Mean   : 24.71  \n",
       " 3rd Qu.:101.00   3rd Qu.:101.00   3rd Qu.:336.0   3rd Qu.: 43.00  \n",
       " Max.   :163.00   Max.   :163.00   Max.   :716.0   Max.   :152.00  \n",
       "                  NA's   :906      NA's   :2661    NA's   :2661    \n",
       "       H               X2B              X3B               HR        \n",
       " Min.   :  0.00   Min.   : 0.000   Min.   : 0.000   Min.   : 0.000  \n",
       " 1st Qu.:  1.00   1st Qu.: 0.000   1st Qu.: 0.000   1st Qu.: 0.000  \n",
       " Median : 19.00   Median : 3.000   Median : 0.000   Median : 1.000  \n",
       " Mean   : 48.18   Mean   : 9.276   Mean   : 1.033   Mean   : 5.369  \n",
       " 3rd Qu.: 87.25   3rd Qu.:16.000   3rd Qu.: 1.000   3rd Qu.: 7.000  \n",
       " Max.   :262.00   Max.   :59.000   Max.   :23.000   Max.   :73.000  \n",
       " NA's   :2661     NA's   :2661     NA's   :2661     NA's   :2661    \n",
       "      RBI               SB                CS              BB        \n",
       " Min.   :  0.00   Min.   :  0.000   Min.   : 0.00   Min.   :  0.00  \n",
       " 1st Qu.:  0.00   1st Qu.:  0.000   1st Qu.: 0.00   1st Qu.:  0.00  \n",
       " Median :  8.00   Median :  0.000   Median : 0.00   Median :  6.00  \n",
       " Mean   : 23.56   Mean   :  3.568   Mean   : 1.54   Mean   : 17.98  \n",
       " 3rd Qu.: 39.00   3rd Qu.:  3.000   3rd Qu.: 2.00   3rd Qu.: 29.00  \n",
       " Max.   :165.00   Max.   :110.000   Max.   :29.00   Max.   :232.00  \n",
       " NA's   :2661     NA's   :2661      NA's   :2661    NA's   :2661    \n",
       "       SO              IBB               HBP               SH        \n",
       " Min.   :  0.00   Min.   :  0.000   Min.   : 0.000   Min.   : 0.000  \n",
       " 1st Qu.:  2.00   1st Qu.:  0.000   1st Qu.: 0.000   1st Qu.: 0.000  \n",
       " Median : 20.00   Median :  0.000   Median : 0.000   Median : 0.000  \n",
       " Mean   : 33.52   Mean   :  1.533   Mean   : 1.614   Mean   : 1.786  \n",
       " 3rd Qu.: 55.00   3rd Qu.:  2.000   3rd Qu.: 2.000   3rd Qu.: 2.000  \n",
       " Max.   :223.00   Max.   :120.000   Max.   :35.000   Max.   :39.000  \n",
       " NA's   :2661     NA's   :2662      NA's   :2670     NA's   :2661    \n",
       "       SF              GIDP            G_old              BA       \n",
       " Min.   : 0.000   Min.   : 0.000   Min.   :  0.00   Min.   :0.000  \n",
       " 1st Qu.: 0.000   1st Qu.: 0.000   1st Qu.: 20.00   1st Qu.:0.160  \n",
       " Median : 0.000   Median : 2.000   Median : 47.00   Median :0.242  \n",
       " Mean   : 1.554   Mean   : 4.127   Mean   : 61.43   Mean   :0.212  \n",
       " 3rd Qu.: 2.000   3rd Qu.: 7.000   3rd Qu.:101.00   3rd Qu.:0.276  \n",
       " Max.   :17.000   Max.   :35.000   Max.   :163.00   Max.   :1.000  \n",
       " NA's   :2662     NA's   :2661     NA's   :3414     NA's   :5618   \n",
       "      OBP             X1B              SLG            teamID.y     lgID.y    \n",
       " Min.   :0.000   Min.   :  0.00   Min.   :  0.00   CLE    :  935   AL:12304  \n",
       " 1st Qu.:0.208   1st Qu.:  0.00   1st Qu.:  5.00   PIT    :  932   NL:13093  \n",
       " Median :0.305   Median :  5.00   Median : 47.08   PHI    :  931             \n",
       " Mean   :0.270   Mean   : 15.68   Mean   : 80.34   SDN    :  923             \n",
       " 3rd Qu.:0.346   3rd Qu.: 26.00   3rd Qu.:144.05   LAN    :  921             \n",
       " Max.   :1.000   Max.   :107.00   Max.   :352.05   CIN    :  912             \n",
       " NA's   :5562    NA's   :2661     NA's   :5618     (Other):19843             \n",
       "     salary        \n",
       " Min.   :       0  \n",
       " 1st Qu.:  255000  \n",
       " Median :  550000  \n",
       " Mean   : 1879256  \n",
       " 3rd Qu.: 2150000  \n",
       " Max.   :33000000  \n",
       "                   "
      ]
     },
     "metadata": {},
     "output_type": "display_data"
    }
   ],
   "source": [
    "summary(combo)"
   ]
  },
  {
   "cell_type": "code",
   "execution_count": null,
   "metadata": {},
   "outputs": [],
   "source": []
  },
  {
   "cell_type": "markdown",
   "metadata": {},
   "source": [
    "### Analyzing the Lost Players (Damon, Olmedo, Giambi)"
   ]
  },
  {
   "cell_type": "markdown",
   "metadata": {},
   "source": [
    "##### Use the subset function to get a data frame called lost_players from the combo data frame consisting of Damon, Olmedo, and Giambi. "
   ]
  },
  {
   "cell_type": "code",
   "execution_count": 47,
   "metadata": {
    "ExecuteTime": {
     "end_time": "2020-12-04T06:20:34.075861Z",
     "start_time": "2020-12-04T06:20:34.057Z"
    }
   },
   "outputs": [],
   "source": [
    "lost_players <- subset(combo,playerID %in% c('giambja01','damonjo01','saenzol01'))"
   ]
  },
  {
   "cell_type": "code",
   "execution_count": 48,
   "metadata": {
    "ExecuteTime": {
     "end_time": "2020-12-04T06:20:34.826493Z",
     "start_time": "2020-12-04T06:20:34.730Z"
    }
   },
   "outputs": [
    {
     "data": {
      "text/html": [
       "<table>\n",
       "<thead><tr><th></th><th scope=col>playerID</th><th scope=col>yearID</th><th scope=col>stint</th><th scope=col>teamID.x</th><th scope=col>lgID.x</th><th scope=col>G</th><th scope=col>G_batting</th><th scope=col>AB</th><th scope=col>R</th><th scope=col>H</th><th scope=col>...</th><th scope=col>SF</th><th scope=col>GIDP</th><th scope=col>G_old</th><th scope=col>BA</th><th scope=col>OBP</th><th scope=col>X1B</th><th scope=col>SLG</th><th scope=col>teamID.y</th><th scope=col>lgID.y</th><th scope=col>salary</th></tr></thead>\n",
       "<tbody>\n",
       "\t<tr><th scope=row>5135</th><td>damonjo01 </td><td>1995      </td><td>1         </td><td>KCA       </td><td>AL        </td><td> 47       </td><td> 47       </td><td>188       </td><td> 32       </td><td> 53       </td><td>...       </td><td> 3        </td><td> 2        </td><td> 47       </td><td>0.2819149 </td><td>0.3235294 </td><td>19        </td><td> 90.063830</td><td>KCA       </td><td>AL        </td><td>  109000  </td></tr>\n",
       "\t<tr><th scope=row>5136</th><td>damonjo01 </td><td>1996      </td><td>1         </td><td>KCA       </td><td>AL        </td><td>145       </td><td>145       </td><td>517       </td><td> 61       </td><td>140       </td><td>...       </td><td> 5        </td><td> 4        </td><td>145       </td><td>0.2707930 </td><td>0.3129496 </td><td>33        </td><td>199.046422</td><td>KCA       </td><td>AL        </td><td>  180000  </td></tr>\n",
       "\t<tr><th scope=row>5137</th><td>damonjo01 </td><td>1997      </td><td>1         </td><td>KCA       </td><td>AL        </td><td>146       </td><td>146       </td><td>472       </td><td> 70       </td><td>130       </td><td>...       </td><td> 1        </td><td> 3        </td><td>146       </td><td>0.2754237 </td><td>0.3378378 </td><td>28        </td><td>178.067797</td><td>KCA       </td><td>AL        </td><td>  240000  </td></tr>\n",
       "\t<tr><th scope=row>5138</th><td>damonjo01 </td><td>1998      </td><td>1         </td><td>KCA       </td><td>AL        </td><td>161       </td><td>161       </td><td>642       </td><td>104       </td><td>178       </td><td>...       </td><td> 3        </td><td> 4        </td><td>161       </td><td>0.2772586 </td><td>0.3394625 </td><td>58        </td><td>268.112150</td><td>KCA       </td><td>AL        </td><td>  460000  </td></tr>\n",
       "\t<tr><th scope=row>5139</th><td>damonjo01 </td><td>1999      </td><td>1         </td><td>KCA       </td><td>AL        </td><td>145       </td><td>145       </td><td>583       </td><td>101       </td><td>179       </td><td>...       </td><td> 4        </td><td>13        </td><td>145       </td><td>0.3070326 </td><td>0.3789954 </td><td>62        </td><td>284.096055</td><td>KCA       </td><td>AL        </td><td> 2100000  </td></tr>\n",
       "\t<tr><th scope=row>5140</th><td>damonjo01 </td><td>2000      </td><td>1         </td><td>KCA       </td><td>AL        </td><td>159       </td><td>159       </td><td>655       </td><td>136       </td><td>214       </td><td>...       </td><td>12        </td><td> 7        </td><td>159       </td><td>0.3267176 </td><td>0.3819918 </td><td>68        </td><td>328.097710</td><td>KCA       </td><td>AL        </td><td> 4000000  </td></tr>\n",
       "\t<tr><th scope=row>5141</th><td>damonjo01 </td><td>2001      </td><td>1         </td><td>OAK       </td><td>AL        </td><td>155       </td><td>155       </td><td>644       </td><td>108       </td><td>165       </td><td>...       </td><td> 4        </td><td> 7        </td><td>155       </td><td>0.2562112 </td><td>0.3235294 </td><td>47        </td><td>245.055901</td><td>OAK       </td><td>AL        </td><td> 7100000  </td></tr>\n",
       "\t<tr><th scope=row>5142</th><td>damonjo01 </td><td>2002      </td><td>1         </td><td>BOS       </td><td>AL        </td><td>154       </td><td>154       </td><td>623       </td><td>118       </td><td>178       </td><td>...       </td><td> 5        </td><td> 4        </td><td>154       </td><td>0.2857143 </td><td>0.3562232 </td><td>59        </td><td>279.089888</td><td>BOS       </td><td>AL        </td><td> 7250000  </td></tr>\n",
       "\t<tr><th scope=row>5143</th><td>damonjo01 </td><td>2003      </td><td>1         </td><td>BOS       </td><td>AL        </td><td>145       </td><td>145       </td><td>608       </td><td>103       </td><td>166       </td><td>...       </td><td> 6        </td><td> 5        </td><td>145       </td><td>0.2730263 </td><td>0.3450292 </td><td>50        </td><td>248.078947</td><td>BOS       </td><td>AL        </td><td> 7500000  </td></tr>\n",
       "\t<tr><th scope=row>5144</th><td>damonjo01 </td><td>2004      </td><td>1         </td><td>BOS       </td><td>AL        </td><td>150       </td><td>150       </td><td>621       </td><td>123       </td><td>189       </td><td>...       </td><td> 3        </td><td> 8        </td><td>150       </td><td>0.3043478 </td><td>0.3803419 </td><td>61        </td><td>277.128824</td><td>BOS       </td><td>AL        </td><td> 8000000  </td></tr>\n",
       "\t<tr><th scope=row>5145</th><td>damonjo01 </td><td>2005      </td><td>1         </td><td>BOS       </td><td>AL        </td><td>148       </td><td>148       </td><td>624       </td><td>117       </td><td>197       </td><td>...       </td><td> 9        </td><td> 5        </td><td>148       </td><td>0.3157051 </td><td>0.3662791 </td><td>51        </td><td>285.064103</td><td>BOS       </td><td>AL        </td><td> 8250000  </td></tr>\n",
       "\t<tr><th scope=row>5146</th><td>damonjo01 </td><td>2006      </td><td>1         </td><td>NYA       </td><td>AL        </td><td>149       </td><td>149       </td><td>593       </td><td>115       </td><td>169       </td><td>...       </td><td> 5        </td><td> 4        </td><td>149       </td><td>0.2849916 </td><td>0.3587444 </td><td>64        </td><td>254.161889</td><td>NYA       </td><td>AL        </td><td>13000000  </td></tr>\n",
       "\t<tr><th scope=row>5147</th><td>damonjo01 </td><td>2007      </td><td>1         </td><td>NYA       </td><td>AL        </td><td>141       </td><td>141       </td><td>533       </td><td> 93       </td><td>144       </td><td>...       </td><td> 3        </td><td> 4        </td><td>141       </td><td>0.2701689 </td><td>0.3509934 </td><td>41        </td><td>204.090056</td><td>NYA       </td><td>AL        </td><td>13000000  </td></tr>\n",
       "\t<tr><th scope=row>5148</th><td>damonjo01 </td><td>2008      </td><td>1         </td><td>NYA       </td><td>AL        </td><td>143       </td><td>143       </td><td>555       </td><td> 95       </td><td>168       </td><td>...       </td><td> 1        </td><td> 5        </td><td>143       </td><td>0.3027027 </td><td>0.3752013 </td><td>49        </td><td>237.122523</td><td>NYA       </td><td>AL        </td><td>13000000  </td></tr>\n",
       "\t<tr><th scope=row>5149</th><td>damonjo01 </td><td>2009      </td><td>1         </td><td>NYA       </td><td>AL        </td><td>143       </td><td>143       </td><td>550       </td><td>107       </td><td>155       </td><td>...       </td><td> 1        </td><td> 9        </td><td> NA       </td><td>0.2818182 </td><td>0.3653846 </td><td>63        </td><td>236.174545</td><td>NYA       </td><td>AL        </td><td>13000000  </td></tr>\n",
       "\t<tr><th scope=row>5150</th><td>damonjo01 </td><td>2010      </td><td>1         </td><td>DET       </td><td>AL        </td><td>145       </td><td>145       </td><td>539       </td><td> 81       </td><td>146       </td><td>...       </td><td> 1        </td><td> 5        </td><td> NA       </td><td>0.2708720 </td><td>0.3551555 </td><td>49        </td><td>233.059369</td><td>DET       </td><td>AL        </td><td> 8000000  </td></tr>\n",
       "\t<tr><th scope=row>5151</th><td>damonjo01 </td><td>2011      </td><td>1         </td><td>TBA       </td><td>AL        </td><td>150       </td><td>150       </td><td>582       </td><td> 79       </td><td>152       </td><td>...       </td><td> 5        </td><td> 4        </td><td>150       </td><td>0.2611684 </td><td>0.3255814 </td><td>52        </td><td>231.109966</td><td>TBA       </td><td>AL        </td><td> 5250000  </td></tr>\n",
       "\t<tr><th scope=row>7872</th><td>giambja01 </td><td>1995      </td><td>1         </td><td>OAK       </td><td>AL        </td><td> 54       </td><td> 54       </td><td>176       </td><td> 27       </td><td> 45       </td><td>...       </td><td> 2        </td><td> 4        </td><td> 54       </td><td>0.2556818 </td><td>0.3636364 </td><td>13        </td><td> 59.136364</td><td>OAK       </td><td>AL        </td><td>  109000  </td></tr>\n",
       "\t<tr><th scope=row>7873</th><td>giambja01 </td><td>1996      </td><td>1         </td><td>OAK       </td><td>AL        </td><td>140       </td><td>140       </td><td>536       </td><td> 84       </td><td>156       </td><td>...       </td><td> 5        </td><td>15        </td><td>140       </td><td>0.2910448 </td><td>0.3551089 </td><td>61        </td><td>239.149254</td><td>OAK       </td><td>AL        </td><td>  120000  </td></tr>\n",
       "\t<tr><th scope=row>7874</th><td>giambja01 </td><td>1997      </td><td>1         </td><td>OAK       </td><td>AL        </td><td>142       </td><td>142       </td><td>519       </td><td> 66       </td><td>152       </td><td>...       </td><td> 8        </td><td>11        </td><td>142       </td><td>0.2928709 </td><td>0.3622449 </td><td>63        </td><td>240.154143</td><td>OAK       </td><td>AL        </td><td>  205000  </td></tr>\n",
       "\t<tr><th scope=row>7875</th><td>giambja01 </td><td>1998      </td><td>1         </td><td>OAK       </td><td>AL        </td><td>153       </td><td>153       </td><td>562       </td><td> 92       </td><td>166       </td><td>...       </td><td> 9        </td><td>16        </td><td>153       </td><td>0.2953737 </td><td>0.3835616 </td><td>55        </td><td>222.192171</td><td>OAK       </td><td>AL        </td><td>  315000  </td></tr>\n",
       "\t<tr><th scope=row>7876</th><td>giambja01 </td><td>1999      </td><td>1         </td><td>OAK       </td><td>AL        </td><td>158       </td><td>158       </td><td>575       </td><td>115       </td><td>181       </td><td>...       </td><td> 8        </td><td>11        </td><td>158       </td><td>0.3147826 </td><td>0.4215827 </td><td>70        </td><td>256.229565</td><td>OAK       </td><td>AL        </td><td> 2103333  </td></tr>\n",
       "\t<tr><th scope=row>7877</th><td>giambja01 </td><td>2000      </td><td>1         </td><td>OAK       </td><td>AL        </td><td>152       </td><td>152       </td><td>510       </td><td>108       </td><td>170       </td><td>...       </td><td> 8        </td><td> 9        </td><td>152       </td><td>0.3333333 </td><td>0.4759036 </td><td>73        </td><td>231.337255</td><td>OAK       </td><td>AL        </td><td> 3103333  </td></tr>\n",
       "\t<tr><th scope=row>7878</th><td>giambja01 </td><td>2001      </td><td>1         </td><td>OAK       </td><td>AL        </td><td>154       </td><td>154       </td><td>520       </td><td>109       </td><td>178       </td><td>...       </td><td> 9        </td><td>17        </td><td>154       </td><td>0.3423077 </td><td>0.4769001 </td><td>87        </td><td>278.292308</td><td>OAK       </td><td>AL        </td><td> 4103333  </td></tr>\n",
       "\t<tr><th scope=row>7879</th><td>giambja01 </td><td>2002      </td><td>1         </td><td>NYA       </td><td>AL        </td><td>155       </td><td>155       </td><td>560       </td><td>120       </td><td>176       </td><td>...       </td><td> 5        </td><td>18        </td><td>155       </td><td>0.3142857 </td><td>0.4354136 </td><td>76        </td><td>247.292857</td><td>NYA       </td><td>AL        </td><td>10428571  </td></tr>\n",
       "\t<tr><th scope=row>7880</th><td>giambja01 </td><td>2003      </td><td>1         </td><td>NYA       </td><td>AL        </td><td>156       </td><td>156       </td><td>535       </td><td> 97       </td><td>134       </td><td>...       </td><td> 5        </td><td> 9        </td><td>156       </td><td>0.2504673 </td><td>0.4115942 </td><td>66        </td><td>184.306542</td><td>NYA       </td><td>AL        </td><td>11428571  </td></tr>\n",
       "\t<tr><th scope=row>7881</th><td>giambja01 </td><td>2004      </td><td>1         </td><td>NYA       </td><td>AL        </td><td> 80       </td><td> 80       </td><td>264       </td><td> 33       </td><td> 55       </td><td>...       </td><td> 3        </td><td> 5        </td><td> 80       </td><td>0.2083333 </td><td>0.3416149 </td><td>21        </td><td> 73.181818</td><td>NYA       </td><td>AL        </td><td>12428571  </td></tr>\n",
       "\t<tr><th scope=row>7882</th><td>giambja01 </td><td>2005      </td><td>1         </td><td>NYA       </td><td>AL        </td><td>139       </td><td>139       </td><td>417       </td><td> 74       </td><td>113       </td><td>...       </td><td> 1        </td><td> 7        </td><td>139       </td><td>0.2709832 </td><td>0.4403670 </td><td>46        </td><td>141.306954</td><td>NYA       </td><td>AL        </td><td>13428571  </td></tr>\n",
       "\t<tr><th scope=row>7883</th><td>giambja01 </td><td>2006      </td><td>1         </td><td>NYA       </td><td>AL        </td><td>139       </td><td>139       </td><td>446       </td><td> 92       </td><td>113       </td><td>...       </td><td> 7        </td><td>10        </td><td>139       </td><td>0.2533632 </td><td>0.4127807 </td><td>62        </td><td>163.331839</td><td>NYA       </td><td>AL        </td><td>20428571  </td></tr>\n",
       "\t<tr><th scope=row>7884</th><td>giambja01 </td><td>2007      </td><td>1         </td><td>NYA       </td><td>AL        </td><td> 83       </td><td> 83       </td><td>254       </td><td> 31       </td><td> 60       </td><td>...       </td><td> 1        </td><td> 1        </td><td> 83       </td><td>0.2362205 </td><td>0.3564356 </td><td>22        </td><td> 76.220472</td><td>NYA       </td><td>AL        </td><td>23428571  </td></tr>\n",
       "\t<tr><th scope=row>7885</th><td>giambja01 </td><td>2008      </td><td>1         </td><td>NYA       </td><td>AL        </td><td>145       </td><td>145       </td><td>458       </td><td> 68       </td><td>113       </td><td>...       </td><td> 9        </td><td> 6        </td><td>145       </td><td>0.2467249 </td><td>0.3734513 </td><td>52        </td><td>154.279476</td><td>NYA       </td><td>AL        </td><td>23428571  </td></tr>\n",
       "\t<tr><th scope=row>7886</th><td>giambja01 </td><td>2009      </td><td>1         </td><td>OAK       </td><td>AL        </td><td> 83       </td><td> 83       </td><td>269       </td><td> 39       </td><td> 52       </td><td>...       </td><td> 2        </td><td> 6        </td><td> NA       </td><td>0.1933086 </td><td>0.3323171 </td><td>24        </td><td> 78.163569</td><td>OAK       </td><td>AL        </td><td> 4000000  </td></tr>\n",
       "\t<tr><th scope=row>7887</th><td>giambja01 </td><td>2009      </td><td>2         </td><td>COL       </td><td>NL        </td><td> 19       </td><td> 19       </td><td> 24       </td><td>  4       </td><td>  7       </td><td>...       </td><td> 0        </td><td> 0        </td><td> NA       </td><td>0.2916667 </td><td>0.4516129 </td><td> 3        </td><td>  9.333333</td><td>OAK       </td><td>AL        </td><td> 4000000  </td></tr>\n",
       "\t<tr><th scope=row>7888</th><td>giambja01 </td><td>2010      </td><td>1         </td><td>COL       </td><td>NL        </td><td> 87       </td><td> 87       </td><td>176       </td><td> 17       </td><td> 43       </td><td>...       </td><td> 5        </td><td> 5        </td><td> NA       </td><td>0.2443182 </td><td>0.3783784 </td><td>15        </td><td> 61.136364</td><td>COL       </td><td>NL        </td><td> 1750000  </td></tr>\n",
       "\t<tr><th scope=row>7889</th><td>giambja01 </td><td>2011      </td><td>1         </td><td>COL       </td><td>NL        </td><td> 64       </td><td> 64       </td><td>131       </td><td> 20       </td><td> 34       </td><td>...       </td><td> 1        </td><td> 1        </td><td> 64       </td><td>0.2595420 </td><td>0.3552632 </td><td>19        </td><td> 46.396947</td><td>COL       </td><td>NL        </td><td> 1000000  </td></tr>\n",
       "\t<tr><th scope=row>7890</th><td>giambja01 </td><td>2012      </td><td>1         </td><td>COL       </td><td>NL        </td><td> 60       </td><td> NA       </td><td> 89       </td><td>  7       </td><td> 20       </td><td>...       </td><td> 2        </td><td> 4        </td><td> NA       </td><td>0.2247191 </td><td>0.3716814 </td><td> 5        </td><td> 28.044944</td><td>COL       </td><td>NL        </td><td> 1000000  </td></tr>\n",
       "\t<tr><th scope=row>7891</th><td>giambja01 </td><td>2013      </td><td>1         </td><td>CLE       </td><td>AL        </td><td> 71       </td><td> 71       </td><td>186       </td><td> 21       </td><td> 34       </td><td>...       </td><td> 3        </td><td> 8        </td><td> NA       </td><td>0.1827957 </td><td>0.2824074 </td><td>17        </td><td> 50.193548</td><td>CLE       </td><td>AL        </td><td>  750000  </td></tr>\n",
       "\t<tr><th scope=row>20112</th><td>saenzol01 </td><td>1999      </td><td>1         </td><td>OAK       </td><td>AL        </td><td> 97       </td><td> 97       </td><td>255       </td><td> 41       </td><td> 70       </td><td>...       </td><td> 3        </td><td> 6        </td><td> 97       </td><td>0.2745098 </td><td>0.3627119 </td><td>29        </td><td>106.172549</td><td>OAK       </td><td>AL        </td><td>  240000  </td></tr>\n",
       "\t<tr><th scope=row>20113</th><td>saenzol01 </td><td>2000      </td><td>1         </td><td>OAK       </td><td>AL        </td><td> 76       </td><td> 76       </td><td>214       </td><td> 40       </td><td> 67       </td><td>...       </td><td> 1        </td><td> 6        </td><td> 76       </td><td>0.3130841 </td><td>0.4008097 </td><td>23        </td><td> 97.168224</td><td>OAK       </td><td>AL        </td><td>  260000  </td></tr>\n",
       "\t<tr><th scope=row>20114</th><td>saenzol01 </td><td>2001      </td><td>1         </td><td>OAK       </td><td>AL        </td><td>106       </td><td>106       </td><td>305       </td><td> 33       </td><td> 67       </td><td>...       </td><td> 3        </td><td> 9        </td><td>106       </td><td>0.2196721 </td><td>0.2911765 </td><td>31        </td><td>112.118033</td><td>OAK       </td><td>AL        </td><td>  290000  </td></tr>\n",
       "\t<tr><th scope=row>20115</th><td>saenzol01 </td><td>2002      </td><td>1         </td><td>OAK       </td><td>AL        </td><td> 68       </td><td> 68       </td><td>156       </td><td> 15       </td><td> 43       </td><td>...       </td><td> 2        </td><td> 2        </td><td> 68       </td><td>0.2756410 </td><td>0.3539326 </td><td>17        </td><td> 66.153846</td><td>OAK       </td><td>AL        </td><td>  800000  </td></tr>\n",
       "\t<tr><th scope=row>20116</th><td>saenzol01 </td><td>2005      </td><td>1         </td><td>LAN       </td><td>NL        </td><td>109       </td><td>109       </td><td>319       </td><td> 39       </td><td> 84       </td><td>...       </td><td> 2        </td><td>12        </td><td>109       </td><td>0.2633229 </td><td>0.3247863 </td><td>39        </td><td>132.188088</td><td>LAN       </td><td>NL        </td><td>  650000  </td></tr>\n",
       "\t<tr><th scope=row>20117</th><td>saenzol01 </td><td>2006      </td><td>1         </td><td>LAN       </td><td>NL        </td><td>103       </td><td>103       </td><td>179       </td><td> 30       </td><td> 53       </td><td>...       </td><td> 4        </td><td> 4        </td><td>103       </td><td>0.2960894 </td><td>0.3627451 </td><td>26        </td><td> 83.245810</td><td>LAN       </td><td>NL        </td><td> 1000000  </td></tr>\n",
       "\t<tr><th scope=row>20118</th><td>saenzol01 </td><td>2007      </td><td>1         </td><td>LAN       </td><td>NL        </td><td> 92       </td><td> 92       </td><td>110       </td><td>  9       </td><td> 21       </td><td>...       </td><td> 4        </td><td> 5        </td><td> 92       </td><td>0.1909091 </td><td>0.2954545 </td><td> 9        </td><td> 31.145455</td><td>LAN       </td><td>NL        </td><td> 1000000  </td></tr>\n",
       "</tbody>\n",
       "</table>\n"
      ],
      "text/latex": [
       "\\begin{tabular}{r|lllllllllllllllllllllllllllllll}\n",
       "  & playerID & yearID & stint & teamID.x & lgID.x & G & G\\_batting & AB & R & H & ... & SF & GIDP & G\\_old & BA & OBP & X1B & SLG & teamID.y & lgID.y & salary\\\\\n",
       "\\hline\n",
       "\t5135 & damonjo01  & 1995       & 1          & KCA        & AL         &  47        &  47        & 188        &  32        &  53        & ...        &  3         &  2         &  47        & 0.2819149  & 0.3235294  & 19         &  90.063830 & KCA        & AL         &   109000  \\\\\n",
       "\t5136 & damonjo01  & 1996       & 1          & KCA        & AL         & 145        & 145        & 517        &  61        & 140        & ...        &  5         &  4         & 145        & 0.2707930  & 0.3129496  & 33         & 199.046422 & KCA        & AL         &   180000  \\\\\n",
       "\t5137 & damonjo01  & 1997       & 1          & KCA        & AL         & 146        & 146        & 472        &  70        & 130        & ...        &  1         &  3         & 146        & 0.2754237  & 0.3378378  & 28         & 178.067797 & KCA        & AL         &   240000  \\\\\n",
       "\t5138 & damonjo01  & 1998       & 1          & KCA        & AL         & 161        & 161        & 642        & 104        & 178        & ...        &  3         &  4         & 161        & 0.2772586  & 0.3394625  & 58         & 268.112150 & KCA        & AL         &   460000  \\\\\n",
       "\t5139 & damonjo01  & 1999       & 1          & KCA        & AL         & 145        & 145        & 583        & 101        & 179        & ...        &  4         & 13         & 145        & 0.3070326  & 0.3789954  & 62         & 284.096055 & KCA        & AL         &  2100000  \\\\\n",
       "\t5140 & damonjo01  & 2000       & 1          & KCA        & AL         & 159        & 159        & 655        & 136        & 214        & ...        & 12         &  7         & 159        & 0.3267176  & 0.3819918  & 68         & 328.097710 & KCA        & AL         &  4000000  \\\\\n",
       "\t5141 & damonjo01  & 2001       & 1          & OAK        & AL         & 155        & 155        & 644        & 108        & 165        & ...        &  4         &  7         & 155        & 0.2562112  & 0.3235294  & 47         & 245.055901 & OAK        & AL         &  7100000  \\\\\n",
       "\t5142 & damonjo01  & 2002       & 1          & BOS        & AL         & 154        & 154        & 623        & 118        & 178        & ...        &  5         &  4         & 154        & 0.2857143  & 0.3562232  & 59         & 279.089888 & BOS        & AL         &  7250000  \\\\\n",
       "\t5143 & damonjo01  & 2003       & 1          & BOS        & AL         & 145        & 145        & 608        & 103        & 166        & ...        &  6         &  5         & 145        & 0.2730263  & 0.3450292  & 50         & 248.078947 & BOS        & AL         &  7500000  \\\\\n",
       "\t5144 & damonjo01  & 2004       & 1          & BOS        & AL         & 150        & 150        & 621        & 123        & 189        & ...        &  3         &  8         & 150        & 0.3043478  & 0.3803419  & 61         & 277.128824 & BOS        & AL         &  8000000  \\\\\n",
       "\t5145 & damonjo01  & 2005       & 1          & BOS        & AL         & 148        & 148        & 624        & 117        & 197        & ...        &  9         &  5         & 148        & 0.3157051  & 0.3662791  & 51         & 285.064103 & BOS        & AL         &  8250000  \\\\\n",
       "\t5146 & damonjo01  & 2006       & 1          & NYA        & AL         & 149        & 149        & 593        & 115        & 169        & ...        &  5         &  4         & 149        & 0.2849916  & 0.3587444  & 64         & 254.161889 & NYA        & AL         & 13000000  \\\\\n",
       "\t5147 & damonjo01  & 2007       & 1          & NYA        & AL         & 141        & 141        & 533        &  93        & 144        & ...        &  3         &  4         & 141        & 0.2701689  & 0.3509934  & 41         & 204.090056 & NYA        & AL         & 13000000  \\\\\n",
       "\t5148 & damonjo01  & 2008       & 1          & NYA        & AL         & 143        & 143        & 555        &  95        & 168        & ...        &  1         &  5         & 143        & 0.3027027  & 0.3752013  & 49         & 237.122523 & NYA        & AL         & 13000000  \\\\\n",
       "\t5149 & damonjo01  & 2009       & 1          & NYA        & AL         & 143        & 143        & 550        & 107        & 155        & ...        &  1         &  9         &  NA        & 0.2818182  & 0.3653846  & 63         & 236.174545 & NYA        & AL         & 13000000  \\\\\n",
       "\t5150 & damonjo01  & 2010       & 1          & DET        & AL         & 145        & 145        & 539        &  81        & 146        & ...        &  1         &  5         &  NA        & 0.2708720  & 0.3551555  & 49         & 233.059369 & DET        & AL         &  8000000  \\\\\n",
       "\t5151 & damonjo01  & 2011       & 1          & TBA        & AL         & 150        & 150        & 582        &  79        & 152        & ...        &  5         &  4         & 150        & 0.2611684  & 0.3255814  & 52         & 231.109966 & TBA        & AL         &  5250000  \\\\\n",
       "\t7872 & giambja01  & 1995       & 1          & OAK        & AL         &  54        &  54        & 176        &  27        &  45        & ...        &  2         &  4         &  54        & 0.2556818  & 0.3636364  & 13         &  59.136364 & OAK        & AL         &   109000  \\\\\n",
       "\t7873 & giambja01  & 1996       & 1          & OAK        & AL         & 140        & 140        & 536        &  84        & 156        & ...        &  5         & 15         & 140        & 0.2910448  & 0.3551089  & 61         & 239.149254 & OAK        & AL         &   120000  \\\\\n",
       "\t7874 & giambja01  & 1997       & 1          & OAK        & AL         & 142        & 142        & 519        &  66        & 152        & ...        &  8         & 11         & 142        & 0.2928709  & 0.3622449  & 63         & 240.154143 & OAK        & AL         &   205000  \\\\\n",
       "\t7875 & giambja01  & 1998       & 1          & OAK        & AL         & 153        & 153        & 562        &  92        & 166        & ...        &  9         & 16         & 153        & 0.2953737  & 0.3835616  & 55         & 222.192171 & OAK        & AL         &   315000  \\\\\n",
       "\t7876 & giambja01  & 1999       & 1          & OAK        & AL         & 158        & 158        & 575        & 115        & 181        & ...        &  8         & 11         & 158        & 0.3147826  & 0.4215827  & 70         & 256.229565 & OAK        & AL         &  2103333  \\\\\n",
       "\t7877 & giambja01  & 2000       & 1          & OAK        & AL         & 152        & 152        & 510        & 108        & 170        & ...        &  8         &  9         & 152        & 0.3333333  & 0.4759036  & 73         & 231.337255 & OAK        & AL         &  3103333  \\\\\n",
       "\t7878 & giambja01  & 2001       & 1          & OAK        & AL         & 154        & 154        & 520        & 109        & 178        & ...        &  9         & 17         & 154        & 0.3423077  & 0.4769001  & 87         & 278.292308 & OAK        & AL         &  4103333  \\\\\n",
       "\t7879 & giambja01  & 2002       & 1          & NYA        & AL         & 155        & 155        & 560        & 120        & 176        & ...        &  5         & 18         & 155        & 0.3142857  & 0.4354136  & 76         & 247.292857 & NYA        & AL         & 10428571  \\\\\n",
       "\t7880 & giambja01  & 2003       & 1          & NYA        & AL         & 156        & 156        & 535        &  97        & 134        & ...        &  5         &  9         & 156        & 0.2504673  & 0.4115942  & 66         & 184.306542 & NYA        & AL         & 11428571  \\\\\n",
       "\t7881 & giambja01  & 2004       & 1          & NYA        & AL         &  80        &  80        & 264        &  33        &  55        & ...        &  3         &  5         &  80        & 0.2083333  & 0.3416149  & 21         &  73.181818 & NYA        & AL         & 12428571  \\\\\n",
       "\t7882 & giambja01  & 2005       & 1          & NYA        & AL         & 139        & 139        & 417        &  74        & 113        & ...        &  1         &  7         & 139        & 0.2709832  & 0.4403670  & 46         & 141.306954 & NYA        & AL         & 13428571  \\\\\n",
       "\t7883 & giambja01  & 2006       & 1          & NYA        & AL         & 139        & 139        & 446        &  92        & 113        & ...        &  7         & 10         & 139        & 0.2533632  & 0.4127807  & 62         & 163.331839 & NYA        & AL         & 20428571  \\\\\n",
       "\t7884 & giambja01  & 2007       & 1          & NYA        & AL         &  83        &  83        & 254        &  31        &  60        & ...        &  1         &  1         &  83        & 0.2362205  & 0.3564356  & 22         &  76.220472 & NYA        & AL         & 23428571  \\\\\n",
       "\t7885 & giambja01  & 2008       & 1          & NYA        & AL         & 145        & 145        & 458        &  68        & 113        & ...        &  9         &  6         & 145        & 0.2467249  & 0.3734513  & 52         & 154.279476 & NYA        & AL         & 23428571  \\\\\n",
       "\t7886 & giambja01  & 2009       & 1          & OAK        & AL         &  83        &  83        & 269        &  39        &  52        & ...        &  2         &  6         &  NA        & 0.1933086  & 0.3323171  & 24         &  78.163569 & OAK        & AL         &  4000000  \\\\\n",
       "\t7887 & giambja01  & 2009       & 2          & COL        & NL         &  19        &  19        &  24        &   4        &   7        & ...        &  0         &  0         &  NA        & 0.2916667  & 0.4516129  &  3         &   9.333333 & OAK        & AL         &  4000000  \\\\\n",
       "\t7888 & giambja01  & 2010       & 1          & COL        & NL         &  87        &  87        & 176        &  17        &  43        & ...        &  5         &  5         &  NA        & 0.2443182  & 0.3783784  & 15         &  61.136364 & COL        & NL         &  1750000  \\\\\n",
       "\t7889 & giambja01  & 2011       & 1          & COL        & NL         &  64        &  64        & 131        &  20        &  34        & ...        &  1         &  1         &  64        & 0.2595420  & 0.3552632  & 19         &  46.396947 & COL        & NL         &  1000000  \\\\\n",
       "\t7890 & giambja01  & 2012       & 1          & COL        & NL         &  60        &  NA        &  89        &   7        &  20        & ...        &  2         &  4         &  NA        & 0.2247191  & 0.3716814  &  5         &  28.044944 & COL        & NL         &  1000000  \\\\\n",
       "\t7891 & giambja01  & 2013       & 1          & CLE        & AL         &  71        &  71        & 186        &  21        &  34        & ...        &  3         &  8         &  NA        & 0.1827957  & 0.2824074  & 17         &  50.193548 & CLE        & AL         &   750000  \\\\\n",
       "\t20112 & saenzol01  & 1999       & 1          & OAK        & AL         &  97        &  97        & 255        &  41        &  70        & ...        &  3         &  6         &  97        & 0.2745098  & 0.3627119  & 29         & 106.172549 & OAK        & AL         &   240000  \\\\\n",
       "\t20113 & saenzol01  & 2000       & 1          & OAK        & AL         &  76        &  76        & 214        &  40        &  67        & ...        &  1         &  6         &  76        & 0.3130841  & 0.4008097  & 23         &  97.168224 & OAK        & AL         &   260000  \\\\\n",
       "\t20114 & saenzol01  & 2001       & 1          & OAK        & AL         & 106        & 106        & 305        &  33        &  67        & ...        &  3         &  9         & 106        & 0.2196721  & 0.2911765  & 31         & 112.118033 & OAK        & AL         &   290000  \\\\\n",
       "\t20115 & saenzol01  & 2002       & 1          & OAK        & AL         &  68        &  68        & 156        &  15        &  43        & ...        &  2         &  2         &  68        & 0.2756410  & 0.3539326  & 17         &  66.153846 & OAK        & AL         &   800000  \\\\\n",
       "\t20116 & saenzol01  & 2005       & 1          & LAN        & NL         & 109        & 109        & 319        &  39        &  84        & ...        &  2         & 12         & 109        & 0.2633229  & 0.3247863  & 39         & 132.188088 & LAN        & NL         &   650000  \\\\\n",
       "\t20117 & saenzol01  & 2006       & 1          & LAN        & NL         & 103        & 103        & 179        &  30        &  53        & ...        &  4         &  4         & 103        & 0.2960894  & 0.3627451  & 26         &  83.245810 & LAN        & NL         &  1000000  \\\\\n",
       "\t20118 & saenzol01  & 2007       & 1          & LAN        & NL         &  92        &  92        & 110        &   9        &  21        & ...        &  4         &  5         &  92        & 0.1909091  & 0.2954545  &  9         &  31.145455 & LAN        & NL         &  1000000  \\\\\n",
       "\\end{tabular}\n"
      ],
      "text/markdown": [
       "\n",
       "| <!--/--> | playerID | yearID | stint | teamID.x | lgID.x | G | G_batting | AB | R | H | ... | SF | GIDP | G_old | BA | OBP | X1B | SLG | teamID.y | lgID.y | salary |\n",
       "|---|---|---|---|---|---|---|---|---|---|---|---|---|---|---|---|---|---|---|---|---|---|\n",
       "| 5135 | damonjo01  | 1995       | 1          | KCA        | AL         |  47        |  47        | 188        |  32        |  53        | ...        |  3         |  2         |  47        | 0.2819149  | 0.3235294  | 19         |  90.063830 | KCA        | AL         |   109000   |\n",
       "| 5136 | damonjo01  | 1996       | 1          | KCA        | AL         | 145        | 145        | 517        |  61        | 140        | ...        |  5         |  4         | 145        | 0.2707930  | 0.3129496  | 33         | 199.046422 | KCA        | AL         |   180000   |\n",
       "| 5137 | damonjo01  | 1997       | 1          | KCA        | AL         | 146        | 146        | 472        |  70        | 130        | ...        |  1         |  3         | 146        | 0.2754237  | 0.3378378  | 28         | 178.067797 | KCA        | AL         |   240000   |\n",
       "| 5138 | damonjo01  | 1998       | 1          | KCA        | AL         | 161        | 161        | 642        | 104        | 178        | ...        |  3         |  4         | 161        | 0.2772586  | 0.3394625  | 58         | 268.112150 | KCA        | AL         |   460000   |\n",
       "| 5139 | damonjo01  | 1999       | 1          | KCA        | AL         | 145        | 145        | 583        | 101        | 179        | ...        |  4         | 13         | 145        | 0.3070326  | 0.3789954  | 62         | 284.096055 | KCA        | AL         |  2100000   |\n",
       "| 5140 | damonjo01  | 2000       | 1          | KCA        | AL         | 159        | 159        | 655        | 136        | 214        | ...        | 12         |  7         | 159        | 0.3267176  | 0.3819918  | 68         | 328.097710 | KCA        | AL         |  4000000   |\n",
       "| 5141 | damonjo01  | 2001       | 1          | OAK        | AL         | 155        | 155        | 644        | 108        | 165        | ...        |  4         |  7         | 155        | 0.2562112  | 0.3235294  | 47         | 245.055901 | OAK        | AL         |  7100000   |\n",
       "| 5142 | damonjo01  | 2002       | 1          | BOS        | AL         | 154        | 154        | 623        | 118        | 178        | ...        |  5         |  4         | 154        | 0.2857143  | 0.3562232  | 59         | 279.089888 | BOS        | AL         |  7250000   |\n",
       "| 5143 | damonjo01  | 2003       | 1          | BOS        | AL         | 145        | 145        | 608        | 103        | 166        | ...        |  6         |  5         | 145        | 0.2730263  | 0.3450292  | 50         | 248.078947 | BOS        | AL         |  7500000   |\n",
       "| 5144 | damonjo01  | 2004       | 1          | BOS        | AL         | 150        | 150        | 621        | 123        | 189        | ...        |  3         |  8         | 150        | 0.3043478  | 0.3803419  | 61         | 277.128824 | BOS        | AL         |  8000000   |\n",
       "| 5145 | damonjo01  | 2005       | 1          | BOS        | AL         | 148        | 148        | 624        | 117        | 197        | ...        |  9         |  5         | 148        | 0.3157051  | 0.3662791  | 51         | 285.064103 | BOS        | AL         |  8250000   |\n",
       "| 5146 | damonjo01  | 2006       | 1          | NYA        | AL         | 149        | 149        | 593        | 115        | 169        | ...        |  5         |  4         | 149        | 0.2849916  | 0.3587444  | 64         | 254.161889 | NYA        | AL         | 13000000   |\n",
       "| 5147 | damonjo01  | 2007       | 1          | NYA        | AL         | 141        | 141        | 533        |  93        | 144        | ...        |  3         |  4         | 141        | 0.2701689  | 0.3509934  | 41         | 204.090056 | NYA        | AL         | 13000000   |\n",
       "| 5148 | damonjo01  | 2008       | 1          | NYA        | AL         | 143        | 143        | 555        |  95        | 168        | ...        |  1         |  5         | 143        | 0.3027027  | 0.3752013  | 49         | 237.122523 | NYA        | AL         | 13000000   |\n",
       "| 5149 | damonjo01  | 2009       | 1          | NYA        | AL         | 143        | 143        | 550        | 107        | 155        | ...        |  1         |  9         |  NA        | 0.2818182  | 0.3653846  | 63         | 236.174545 | NYA        | AL         | 13000000   |\n",
       "| 5150 | damonjo01  | 2010       | 1          | DET        | AL         | 145        | 145        | 539        |  81        | 146        | ...        |  1         |  5         |  NA        | 0.2708720  | 0.3551555  | 49         | 233.059369 | DET        | AL         |  8000000   |\n",
       "| 5151 | damonjo01  | 2011       | 1          | TBA        | AL         | 150        | 150        | 582        |  79        | 152        | ...        |  5         |  4         | 150        | 0.2611684  | 0.3255814  | 52         | 231.109966 | TBA        | AL         |  5250000   |\n",
       "| 7872 | giambja01  | 1995       | 1          | OAK        | AL         |  54        |  54        | 176        |  27        |  45        | ...        |  2         |  4         |  54        | 0.2556818  | 0.3636364  | 13         |  59.136364 | OAK        | AL         |   109000   |\n",
       "| 7873 | giambja01  | 1996       | 1          | OAK        | AL         | 140        | 140        | 536        |  84        | 156        | ...        |  5         | 15         | 140        | 0.2910448  | 0.3551089  | 61         | 239.149254 | OAK        | AL         |   120000   |\n",
       "| 7874 | giambja01  | 1997       | 1          | OAK        | AL         | 142        | 142        | 519        |  66        | 152        | ...        |  8         | 11         | 142        | 0.2928709  | 0.3622449  | 63         | 240.154143 | OAK        | AL         |   205000   |\n",
       "| 7875 | giambja01  | 1998       | 1          | OAK        | AL         | 153        | 153        | 562        |  92        | 166        | ...        |  9         | 16         | 153        | 0.2953737  | 0.3835616  | 55         | 222.192171 | OAK        | AL         |   315000   |\n",
       "| 7876 | giambja01  | 1999       | 1          | OAK        | AL         | 158        | 158        | 575        | 115        | 181        | ...        |  8         | 11         | 158        | 0.3147826  | 0.4215827  | 70         | 256.229565 | OAK        | AL         |  2103333   |\n",
       "| 7877 | giambja01  | 2000       | 1          | OAK        | AL         | 152        | 152        | 510        | 108        | 170        | ...        |  8         |  9         | 152        | 0.3333333  | 0.4759036  | 73         | 231.337255 | OAK        | AL         |  3103333   |\n",
       "| 7878 | giambja01  | 2001       | 1          | OAK        | AL         | 154        | 154        | 520        | 109        | 178        | ...        |  9         | 17         | 154        | 0.3423077  | 0.4769001  | 87         | 278.292308 | OAK        | AL         |  4103333   |\n",
       "| 7879 | giambja01  | 2002       | 1          | NYA        | AL         | 155        | 155        | 560        | 120        | 176        | ...        |  5         | 18         | 155        | 0.3142857  | 0.4354136  | 76         | 247.292857 | NYA        | AL         | 10428571   |\n",
       "| 7880 | giambja01  | 2003       | 1          | NYA        | AL         | 156        | 156        | 535        |  97        | 134        | ...        |  5         |  9         | 156        | 0.2504673  | 0.4115942  | 66         | 184.306542 | NYA        | AL         | 11428571   |\n",
       "| 7881 | giambja01  | 2004       | 1          | NYA        | AL         |  80        |  80        | 264        |  33        |  55        | ...        |  3         |  5         |  80        | 0.2083333  | 0.3416149  | 21         |  73.181818 | NYA        | AL         | 12428571   |\n",
       "| 7882 | giambja01  | 2005       | 1          | NYA        | AL         | 139        | 139        | 417        |  74        | 113        | ...        |  1         |  7         | 139        | 0.2709832  | 0.4403670  | 46         | 141.306954 | NYA        | AL         | 13428571   |\n",
       "| 7883 | giambja01  | 2006       | 1          | NYA        | AL         | 139        | 139        | 446        |  92        | 113        | ...        |  7         | 10         | 139        | 0.2533632  | 0.4127807  | 62         | 163.331839 | NYA        | AL         | 20428571   |\n",
       "| 7884 | giambja01  | 2007       | 1          | NYA        | AL         |  83        |  83        | 254        |  31        |  60        | ...        |  1         |  1         |  83        | 0.2362205  | 0.3564356  | 22         |  76.220472 | NYA        | AL         | 23428571   |\n",
       "| 7885 | giambja01  | 2008       | 1          | NYA        | AL         | 145        | 145        | 458        |  68        | 113        | ...        |  9         |  6         | 145        | 0.2467249  | 0.3734513  | 52         | 154.279476 | NYA        | AL         | 23428571   |\n",
       "| 7886 | giambja01  | 2009       | 1          | OAK        | AL         |  83        |  83        | 269        |  39        |  52        | ...        |  2         |  6         |  NA        | 0.1933086  | 0.3323171  | 24         |  78.163569 | OAK        | AL         |  4000000   |\n",
       "| 7887 | giambja01  | 2009       | 2          | COL        | NL         |  19        |  19        |  24        |   4        |   7        | ...        |  0         |  0         |  NA        | 0.2916667  | 0.4516129  |  3         |   9.333333 | OAK        | AL         |  4000000   |\n",
       "| 7888 | giambja01  | 2010       | 1          | COL        | NL         |  87        |  87        | 176        |  17        |  43        | ...        |  5         |  5         |  NA        | 0.2443182  | 0.3783784  | 15         |  61.136364 | COL        | NL         |  1750000   |\n",
       "| 7889 | giambja01  | 2011       | 1          | COL        | NL         |  64        |  64        | 131        |  20        |  34        | ...        |  1         |  1         |  64        | 0.2595420  | 0.3552632  | 19         |  46.396947 | COL        | NL         |  1000000   |\n",
       "| 7890 | giambja01  | 2012       | 1          | COL        | NL         |  60        |  NA        |  89        |   7        |  20        | ...        |  2         |  4         |  NA        | 0.2247191  | 0.3716814  |  5         |  28.044944 | COL        | NL         |  1000000   |\n",
       "| 7891 | giambja01  | 2013       | 1          | CLE        | AL         |  71        |  71        | 186        |  21        |  34        | ...        |  3         |  8         |  NA        | 0.1827957  | 0.2824074  | 17         |  50.193548 | CLE        | AL         |   750000   |\n",
       "| 20112 | saenzol01  | 1999       | 1          | OAK        | AL         |  97        |  97        | 255        |  41        |  70        | ...        |  3         |  6         |  97        | 0.2745098  | 0.3627119  | 29         | 106.172549 | OAK        | AL         |   240000   |\n",
       "| 20113 | saenzol01  | 2000       | 1          | OAK        | AL         |  76        |  76        | 214        |  40        |  67        | ...        |  1         |  6         |  76        | 0.3130841  | 0.4008097  | 23         |  97.168224 | OAK        | AL         |   260000   |\n",
       "| 20114 | saenzol01  | 2001       | 1          | OAK        | AL         | 106        | 106        | 305        |  33        |  67        | ...        |  3         |  9         | 106        | 0.2196721  | 0.2911765  | 31         | 112.118033 | OAK        | AL         |   290000   |\n",
       "| 20115 | saenzol01  | 2002       | 1          | OAK        | AL         |  68        |  68        | 156        |  15        |  43        | ...        |  2         |  2         |  68        | 0.2756410  | 0.3539326  | 17         |  66.153846 | OAK        | AL         |   800000   |\n",
       "| 20116 | saenzol01  | 2005       | 1          | LAN        | NL         | 109        | 109        | 319        |  39        |  84        | ...        |  2         | 12         | 109        | 0.2633229  | 0.3247863  | 39         | 132.188088 | LAN        | NL         |   650000   |\n",
       "| 20117 | saenzol01  | 2006       | 1          | LAN        | NL         | 103        | 103        | 179        |  30        |  53        | ...        |  4         |  4         | 103        | 0.2960894  | 0.3627451  | 26         |  83.245810 | LAN        | NL         |  1000000   |\n",
       "| 20118 | saenzol01  | 2007       | 1          | LAN        | NL         |  92        |  92        | 110        |   9        |  21        | ...        |  4         |  5         |  92        | 0.1909091  | 0.2954545  |  9         |  31.145455 | LAN        | NL         |  1000000   |\n",
       "\n"
      ],
      "text/plain": [
       "      playerID  yearID stint teamID.x lgID.x G   G_batting AB  R   H   ... SF\n",
       "5135  damonjo01 1995   1     KCA      AL      47  47       188  32  53 ...  3\n",
       "5136  damonjo01 1996   1     KCA      AL     145 145       517  61 140 ...  5\n",
       "5137  damonjo01 1997   1     KCA      AL     146 146       472  70 130 ...  1\n",
       "5138  damonjo01 1998   1     KCA      AL     161 161       642 104 178 ...  3\n",
       "5139  damonjo01 1999   1     KCA      AL     145 145       583 101 179 ...  4\n",
       "5140  damonjo01 2000   1     KCA      AL     159 159       655 136 214 ... 12\n",
       "5141  damonjo01 2001   1     OAK      AL     155 155       644 108 165 ...  4\n",
       "5142  damonjo01 2002   1     BOS      AL     154 154       623 118 178 ...  5\n",
       "5143  damonjo01 2003   1     BOS      AL     145 145       608 103 166 ...  6\n",
       "5144  damonjo01 2004   1     BOS      AL     150 150       621 123 189 ...  3\n",
       "5145  damonjo01 2005   1     BOS      AL     148 148       624 117 197 ...  9\n",
       "5146  damonjo01 2006   1     NYA      AL     149 149       593 115 169 ...  5\n",
       "5147  damonjo01 2007   1     NYA      AL     141 141       533  93 144 ...  3\n",
       "5148  damonjo01 2008   1     NYA      AL     143 143       555  95 168 ...  1\n",
       "5149  damonjo01 2009   1     NYA      AL     143 143       550 107 155 ...  1\n",
       "5150  damonjo01 2010   1     DET      AL     145 145       539  81 146 ...  1\n",
       "5151  damonjo01 2011   1     TBA      AL     150 150       582  79 152 ...  5\n",
       "7872  giambja01 1995   1     OAK      AL      54  54       176  27  45 ...  2\n",
       "7873  giambja01 1996   1     OAK      AL     140 140       536  84 156 ...  5\n",
       "7874  giambja01 1997   1     OAK      AL     142 142       519  66 152 ...  8\n",
       "7875  giambja01 1998   1     OAK      AL     153 153       562  92 166 ...  9\n",
       "7876  giambja01 1999   1     OAK      AL     158 158       575 115 181 ...  8\n",
       "7877  giambja01 2000   1     OAK      AL     152 152       510 108 170 ...  8\n",
       "7878  giambja01 2001   1     OAK      AL     154 154       520 109 178 ...  9\n",
       "7879  giambja01 2002   1     NYA      AL     155 155       560 120 176 ...  5\n",
       "7880  giambja01 2003   1     NYA      AL     156 156       535  97 134 ...  5\n",
       "7881  giambja01 2004   1     NYA      AL      80  80       264  33  55 ...  3\n",
       "7882  giambja01 2005   1     NYA      AL     139 139       417  74 113 ...  1\n",
       "7883  giambja01 2006   1     NYA      AL     139 139       446  92 113 ...  7\n",
       "7884  giambja01 2007   1     NYA      AL      83  83       254  31  60 ...  1\n",
       "7885  giambja01 2008   1     NYA      AL     145 145       458  68 113 ...  9\n",
       "7886  giambja01 2009   1     OAK      AL      83  83       269  39  52 ...  2\n",
       "7887  giambja01 2009   2     COL      NL      19  19        24   4   7 ...  0\n",
       "7888  giambja01 2010   1     COL      NL      87  87       176  17  43 ...  5\n",
       "7889  giambja01 2011   1     COL      NL      64  64       131  20  34 ...  1\n",
       "7890  giambja01 2012   1     COL      NL      60  NA        89   7  20 ...  2\n",
       "7891  giambja01 2013   1     CLE      AL      71  71       186  21  34 ...  3\n",
       "20112 saenzol01 1999   1     OAK      AL      97  97       255  41  70 ...  3\n",
       "20113 saenzol01 2000   1     OAK      AL      76  76       214  40  67 ...  1\n",
       "20114 saenzol01 2001   1     OAK      AL     106 106       305  33  67 ...  3\n",
       "20115 saenzol01 2002   1     OAK      AL      68  68       156  15  43 ...  2\n",
       "20116 saenzol01 2005   1     LAN      NL     109 109       319  39  84 ...  2\n",
       "20117 saenzol01 2006   1     LAN      NL     103 103       179  30  53 ...  4\n",
       "20118 saenzol01 2007   1     LAN      NL      92  92       110   9  21 ...  4\n",
       "      GIDP G_old BA        OBP       X1B SLG        teamID.y lgID.y salary  \n",
       "5135   2    47   0.2819149 0.3235294 19   90.063830 KCA      AL       109000\n",
       "5136   4   145   0.2707930 0.3129496 33  199.046422 KCA      AL       180000\n",
       "5137   3   146   0.2754237 0.3378378 28  178.067797 KCA      AL       240000\n",
       "5138   4   161   0.2772586 0.3394625 58  268.112150 KCA      AL       460000\n",
       "5139  13   145   0.3070326 0.3789954 62  284.096055 KCA      AL      2100000\n",
       "5140   7   159   0.3267176 0.3819918 68  328.097710 KCA      AL      4000000\n",
       "5141   7   155   0.2562112 0.3235294 47  245.055901 OAK      AL      7100000\n",
       "5142   4   154   0.2857143 0.3562232 59  279.089888 BOS      AL      7250000\n",
       "5143   5   145   0.2730263 0.3450292 50  248.078947 BOS      AL      7500000\n",
       "5144   8   150   0.3043478 0.3803419 61  277.128824 BOS      AL      8000000\n",
       "5145   5   148   0.3157051 0.3662791 51  285.064103 BOS      AL      8250000\n",
       "5146   4   149   0.2849916 0.3587444 64  254.161889 NYA      AL     13000000\n",
       "5147   4   141   0.2701689 0.3509934 41  204.090056 NYA      AL     13000000\n",
       "5148   5   143   0.3027027 0.3752013 49  237.122523 NYA      AL     13000000\n",
       "5149   9    NA   0.2818182 0.3653846 63  236.174545 NYA      AL     13000000\n",
       "5150   5    NA   0.2708720 0.3551555 49  233.059369 DET      AL      8000000\n",
       "5151   4   150   0.2611684 0.3255814 52  231.109966 TBA      AL      5250000\n",
       "7872   4    54   0.2556818 0.3636364 13   59.136364 OAK      AL       109000\n",
       "7873  15   140   0.2910448 0.3551089 61  239.149254 OAK      AL       120000\n",
       "7874  11   142   0.2928709 0.3622449 63  240.154143 OAK      AL       205000\n",
       "7875  16   153   0.2953737 0.3835616 55  222.192171 OAK      AL       315000\n",
       "7876  11   158   0.3147826 0.4215827 70  256.229565 OAK      AL      2103333\n",
       "7877   9   152   0.3333333 0.4759036 73  231.337255 OAK      AL      3103333\n",
       "7878  17   154   0.3423077 0.4769001 87  278.292308 OAK      AL      4103333\n",
       "7879  18   155   0.3142857 0.4354136 76  247.292857 NYA      AL     10428571\n",
       "7880   9   156   0.2504673 0.4115942 66  184.306542 NYA      AL     11428571\n",
       "7881   5    80   0.2083333 0.3416149 21   73.181818 NYA      AL     12428571\n",
       "7882   7   139   0.2709832 0.4403670 46  141.306954 NYA      AL     13428571\n",
       "7883  10   139   0.2533632 0.4127807 62  163.331839 NYA      AL     20428571\n",
       "7884   1    83   0.2362205 0.3564356 22   76.220472 NYA      AL     23428571\n",
       "7885   6   145   0.2467249 0.3734513 52  154.279476 NYA      AL     23428571\n",
       "7886   6    NA   0.1933086 0.3323171 24   78.163569 OAK      AL      4000000\n",
       "7887   0    NA   0.2916667 0.4516129  3    9.333333 OAK      AL      4000000\n",
       "7888   5    NA   0.2443182 0.3783784 15   61.136364 COL      NL      1750000\n",
       "7889   1    64   0.2595420 0.3552632 19   46.396947 COL      NL      1000000\n",
       "7890   4    NA   0.2247191 0.3716814  5   28.044944 COL      NL      1000000\n",
       "7891   8    NA   0.1827957 0.2824074 17   50.193548 CLE      AL       750000\n",
       "20112  6    97   0.2745098 0.3627119 29  106.172549 OAK      AL       240000\n",
       "20113  6    76   0.3130841 0.4008097 23   97.168224 OAK      AL       260000\n",
       "20114  9   106   0.2196721 0.2911765 31  112.118033 OAK      AL       290000\n",
       "20115  2    68   0.2756410 0.3539326 17   66.153846 OAK      AL       800000\n",
       "20116 12   109   0.2633229 0.3247863 39  132.188088 LAN      NL       650000\n",
       "20117  4   103   0.2960894 0.3627451 26   83.245810 LAN      NL      1000000\n",
       "20118  5    92   0.1909091 0.2954545  9   31.145455 LAN      NL      1000000"
      ]
     },
     "metadata": {},
     "output_type": "display_data"
    }
   ],
   "source": [
    "lost_players"
   ]
  },
  {
   "cell_type": "code",
   "execution_count": null,
   "metadata": {},
   "outputs": [],
   "source": []
  },
  {
   "cell_type": "markdown",
   "metadata": {},
   "source": [
    "##### Use subset again to grab the rows where the year ID was 2001, since that was the year that the 3 players left the team."
   ]
  },
  {
   "cell_type": "code",
   "execution_count": 49,
   "metadata": {
    "ExecuteTime": {
     "end_time": "2020-12-04T06:20:39.828373Z",
     "start_time": "2020-12-04T06:20:39.810Z"
    }
   },
   "outputs": [],
   "source": [
    "lost_players <- subset(lost_players,yearID == 2001)"
   ]
  },
  {
   "cell_type": "code",
   "execution_count": 51,
   "metadata": {
    "ExecuteTime": {
     "end_time": "2020-12-04T06:20:40.761537Z",
     "start_time": "2020-12-04T06:20:40.731Z"
    }
   },
   "outputs": [
    {
     "data": {
      "text/html": [
       "<table>\n",
       "<thead><tr><th></th><th scope=col>playerID</th><th scope=col>yearID</th><th scope=col>stint</th><th scope=col>teamID.x</th><th scope=col>lgID.x</th><th scope=col>G</th><th scope=col>G_batting</th><th scope=col>AB</th><th scope=col>R</th><th scope=col>H</th><th scope=col>...</th><th scope=col>SF</th><th scope=col>GIDP</th><th scope=col>G_old</th><th scope=col>BA</th><th scope=col>OBP</th><th scope=col>X1B</th><th scope=col>SLG</th><th scope=col>teamID.y</th><th scope=col>lgID.y</th><th scope=col>salary</th></tr></thead>\n",
       "<tbody>\n",
       "\t<tr><th scope=row>5141</th><td>damonjo01</td><td>2001     </td><td>1        </td><td>OAK      </td><td>AL       </td><td>155      </td><td>155      </td><td>644      </td><td>108      </td><td>165      </td><td>...      </td><td>4        </td><td> 7       </td><td>155      </td><td>0.2562112</td><td>0.3235294</td><td>47       </td><td>245.0559 </td><td>OAK      </td><td>AL       </td><td>7100000  </td></tr>\n",
       "\t<tr><th scope=row>7878</th><td>giambja01</td><td>2001     </td><td>1        </td><td>OAK      </td><td>AL       </td><td>154      </td><td>154      </td><td>520      </td><td>109      </td><td>178      </td><td>...      </td><td>9        </td><td>17       </td><td>154      </td><td>0.3423077</td><td>0.4769001</td><td>87       </td><td>278.2923 </td><td>OAK      </td><td>AL       </td><td>4103333  </td></tr>\n",
       "\t<tr><th scope=row>20114</th><td>saenzol01</td><td>2001     </td><td>1        </td><td>OAK      </td><td>AL       </td><td>106      </td><td>106      </td><td>305      </td><td> 33      </td><td> 67      </td><td>...      </td><td>3        </td><td> 9       </td><td>106      </td><td>0.2196721</td><td>0.2911765</td><td>31       </td><td>112.1180 </td><td>OAK      </td><td>AL       </td><td> 290000  </td></tr>\n",
       "</tbody>\n",
       "</table>\n"
      ],
      "text/latex": [
       "\\begin{tabular}{r|lllllllllllllllllllllllllllllll}\n",
       "  & playerID & yearID & stint & teamID.x & lgID.x & G & G\\_batting & AB & R & H & ... & SF & GIDP & G\\_old & BA & OBP & X1B & SLG & teamID.y & lgID.y & salary\\\\\n",
       "\\hline\n",
       "\t5141 & damonjo01 & 2001      & 1         & OAK       & AL        & 155       & 155       & 644       & 108       & 165       & ...       & 4         &  7        & 155       & 0.2562112 & 0.3235294 & 47        & 245.0559  & OAK       & AL        & 7100000  \\\\\n",
       "\t7878 & giambja01 & 2001      & 1         & OAK       & AL        & 154       & 154       & 520       & 109       & 178       & ...       & 9         & 17        & 154       & 0.3423077 & 0.4769001 & 87        & 278.2923  & OAK       & AL        & 4103333  \\\\\n",
       "\t20114 & saenzol01 & 2001      & 1         & OAK       & AL        & 106       & 106       & 305       &  33       &  67       & ...       & 3         &  9        & 106       & 0.2196721 & 0.2911765 & 31        & 112.1180  & OAK       & AL        &  290000  \\\\\n",
       "\\end{tabular}\n"
      ],
      "text/markdown": [
       "\n",
       "| <!--/--> | playerID | yearID | stint | teamID.x | lgID.x | G | G_batting | AB | R | H | ... | SF | GIDP | G_old | BA | OBP | X1B | SLG | teamID.y | lgID.y | salary |\n",
       "|---|---|---|---|---|---|---|---|---|---|---|---|---|---|---|---|---|---|---|---|---|---|\n",
       "| 5141 | damonjo01 | 2001      | 1         | OAK       | AL        | 155       | 155       | 644       | 108       | 165       | ...       | 4         |  7        | 155       | 0.2562112 | 0.3235294 | 47        | 245.0559  | OAK       | AL        | 7100000   |\n",
       "| 7878 | giambja01 | 2001      | 1         | OAK       | AL        | 154       | 154       | 520       | 109       | 178       | ...       | 9         | 17        | 154       | 0.3423077 | 0.4769001 | 87        | 278.2923  | OAK       | AL        | 4103333   |\n",
       "| 20114 | saenzol01 | 2001      | 1         | OAK       | AL        | 106       | 106       | 305       |  33       |  67       | ...       | 3         |  9        | 106       | 0.2196721 | 0.2911765 | 31        | 112.1180  | OAK       | AL        |  290000   |\n",
       "\n"
      ],
      "text/plain": [
       "      playerID  yearID stint teamID.x lgID.x G   G_batting AB  R   H   ... SF\n",
       "5141  damonjo01 2001   1     OAK      AL     155 155       644 108 165 ... 4 \n",
       "7878  giambja01 2001   1     OAK      AL     154 154       520 109 178 ... 9 \n",
       "20114 saenzol01 2001   1     OAK      AL     106 106       305  33  67 ... 3 \n",
       "      GIDP G_old BA        OBP       X1B SLG      teamID.y lgID.y salary \n",
       "5141   7   155   0.2562112 0.3235294 47  245.0559 OAK      AL     7100000\n",
       "7878  17   154   0.3423077 0.4769001 87  278.2923 OAK      AL     4103333\n",
       "20114  9   106   0.2196721 0.2911765 31  112.1180 OAK      AL      290000"
      ]
     },
     "metadata": {},
     "output_type": "display_data"
    }
   ],
   "source": [
    "lost_players"
   ]
  },
  {
   "cell_type": "code",
   "execution_count": null,
   "metadata": {},
   "outputs": [],
   "source": []
  },
  {
   "cell_type": "markdown",
   "metadata": {},
   "source": [
    "##### Reduce the lost_players data frame to the following columns: playerID,H,X2B,X3B,HR,OBP,SLG,BA,AB"
   ]
  },
  {
   "cell_type": "code",
   "execution_count": 52,
   "metadata": {
    "ExecuteTime": {
     "end_time": "2020-12-04T06:21:14.616868Z",
     "start_time": "2020-12-04T06:21:14.598Z"
    }
   },
   "outputs": [],
   "source": [
    "lost_players <- lost_players[,c('playerID','H','X2B','X3B','HR','OBP','SLG','BA','AB')]"
   ]
  },
  {
   "cell_type": "code",
   "execution_count": 53,
   "metadata": {
    "ExecuteTime": {
     "end_time": "2020-12-04T06:22:45.787881Z",
     "start_time": "2020-12-04T06:22:45.766Z"
    }
   },
   "outputs": [
    {
     "data": {
      "text/html": [
       "<table>\n",
       "<thead><tr><th></th><th scope=col>playerID</th><th scope=col>H</th><th scope=col>X2B</th><th scope=col>X3B</th><th scope=col>HR</th><th scope=col>OBP</th><th scope=col>SLG</th><th scope=col>BA</th><th scope=col>AB</th></tr></thead>\n",
       "<tbody>\n",
       "\t<tr><th scope=row>5141</th><td>damonjo01</td><td>165      </td><td>34       </td><td>4        </td><td> 9       </td><td>0.3235294</td><td>245.0559 </td><td>0.2562112</td><td>644      </td></tr>\n",
       "\t<tr><th scope=row>7878</th><td>giambja01</td><td>178      </td><td>47       </td><td>2        </td><td>38       </td><td>0.4769001</td><td>278.2923 </td><td>0.3423077</td><td>520      </td></tr>\n",
       "\t<tr><th scope=row>20114</th><td>saenzol01</td><td> 67      </td><td>21       </td><td>1        </td><td> 9       </td><td>0.2911765</td><td>112.1180 </td><td>0.2196721</td><td>305      </td></tr>\n",
       "</tbody>\n",
       "</table>\n"
      ],
      "text/latex": [
       "\\begin{tabular}{r|lllllllll}\n",
       "  & playerID & H & X2B & X3B & HR & OBP & SLG & BA & AB\\\\\n",
       "\\hline\n",
       "\t5141 & damonjo01 & 165       & 34        & 4         &  9        & 0.3235294 & 245.0559  & 0.2562112 & 644      \\\\\n",
       "\t7878 & giambja01 & 178       & 47        & 2         & 38        & 0.4769001 & 278.2923  & 0.3423077 & 520      \\\\\n",
       "\t20114 & saenzol01 &  67       & 21        & 1         &  9        & 0.2911765 & 112.1180  & 0.2196721 & 305      \\\\\n",
       "\\end{tabular}\n"
      ],
      "text/markdown": [
       "\n",
       "| <!--/--> | playerID | H | X2B | X3B | HR | OBP | SLG | BA | AB |\n",
       "|---|---|---|---|---|---|---|---|---|---|\n",
       "| 5141 | damonjo01 | 165       | 34        | 4         |  9        | 0.3235294 | 245.0559  | 0.2562112 | 644       |\n",
       "| 7878 | giambja01 | 178       | 47        | 2         | 38        | 0.4769001 | 278.2923  | 0.3423077 | 520       |\n",
       "| 20114 | saenzol01 |  67       | 21        | 1         |  9        | 0.2911765 | 112.1180  | 0.2196721 | 305       |\n",
       "\n"
      ],
      "text/plain": [
       "      playerID  H   X2B X3B HR OBP       SLG      BA        AB \n",
       "5141  damonjo01 165 34  4    9 0.3235294 245.0559 0.2562112 644\n",
       "7878  giambja01 178 47  2   38 0.4769001 278.2923 0.3423077 520\n",
       "20114 saenzol01  67 21  1    9 0.2911765 112.1180 0.2196721 305"
      ]
     },
     "metadata": {},
     "output_type": "display_data"
    }
   ],
   "source": [
    "head(lost_players)"
   ]
  },
  {
   "cell_type": "code",
   "execution_count": null,
   "metadata": {},
   "outputs": [],
   "source": []
  },
  {
   "cell_type": "markdown",
   "metadata": {},
   "source": [
    "### Replacement Players"
   ]
  },
  {
   "cell_type": "markdown",
   "metadata": {},
   "source": [
    "###### Constraints:\n",
    "###### The total combined salary of the three players can not exceed 15 million dollars.\n",
    "###### Their combined number of At Bats (AB) needs to be equal to or greater than the lost players. \n",
    "###### Their mean OBP had to equal to or greater than the mean OBP of the lost players"
   ]
  },
  {
   "cell_type": "code",
   "execution_count": null,
   "metadata": {},
   "outputs": [],
   "source": []
  },
  {
   "cell_type": "code",
   "execution_count": 56,
   "metadata": {
    "ExecuteTime": {
     "end_time": "2020-12-04T07:08:21.533011Z",
     "start_time": "2020-12-04T07:08:21.510Z"
    }
   },
   "outputs": [
    {
     "data": {
      "text/html": [
       "0.363868677128079"
      ],
      "text/latex": [
       "0.363868677128079"
      ],
      "text/markdown": [
       "0.363868677128079"
      ],
      "text/plain": [
       "[1] 0.3638687"
      ]
     },
     "metadata": {},
     "output_type": "display_data"
    }
   ],
   "source": [
    "obp <- mean(lost_players$OBP)\n",
    "\n",
    "obp"
   ]
  },
  {
   "cell_type": "code",
   "execution_count": 59,
   "metadata": {
    "ExecuteTime": {
     "end_time": "2020-12-04T07:09:41.781141Z",
     "start_time": "2020-12-04T07:09:41.753Z"
    }
   },
   "outputs": [
    {
     "data": {
      "text/html": [
       "1469"
      ],
      "text/latex": [
       "1469"
      ],
      "text/markdown": [
       "1469"
      ],
      "text/plain": [
       "[1] 1469"
      ]
     },
     "metadata": {},
     "output_type": "display_data"
    }
   ],
   "source": [
    "ab <- sum(lost_players$AB)\n",
    "\n",
    "ab"
   ]
  },
  {
   "cell_type": "code",
   "execution_count": 67,
   "metadata": {
    "ExecuteTime": {
     "end_time": "2020-12-04T19:32:26.891088Z",
     "start_time": "2020-12-04T19:32:26.871Z"
    }
   },
   "outputs": [
    {
     "data": {
      "text/html": [
       "5e+06"
      ],
      "text/latex": [
       "5e+06"
      ],
      "text/markdown": [
       "5e+06"
      ],
      "text/plain": [
       "[1] 5e+06"
      ]
     },
     "metadata": {},
     "output_type": "display_data"
    }
   ],
   "source": [
    "15000000/3"
   ]
  },
  {
   "cell_type": "markdown",
   "metadata": {},
   "source": [
    "##### On Average, Each player should cost around 5 Million Dollars"
   ]
  },
  {
   "cell_type": "code",
   "execution_count": null,
   "metadata": {},
   "outputs": [],
   "source": []
  },
  {
   "cell_type": "markdown",
   "metadata": {},
   "source": [
    "##### First only grab available players from year 2001"
   ]
  },
  {
   "cell_type": "code",
   "execution_count": 68,
   "metadata": {
    "ExecuteTime": {
     "end_time": "2020-12-04T19:34:52.550376Z",
     "start_time": "2020-12-04T19:34:51.834Z"
    }
   },
   "outputs": [
    {
     "name": "stderr",
     "output_type": "stream",
     "text": [
      "Warning message:\n",
      "\"package 'dplyr' was built under R version 3.6.3\"\n",
      "Attaching package: 'dplyr'\n",
      "\n",
      "The following objects are masked from 'package:stats':\n",
      "\n",
      "    filter, lag\n",
      "\n",
      "The following objects are masked from 'package:base':\n",
      "\n",
      "    intersect, setdiff, setequal, union\n",
      "\n"
     ]
    }
   ],
   "source": [
    "library(dplyr)\n",
    "avail.players <- filter(combo,yearID==2001)"
   ]
  },
  {
   "cell_type": "markdown",
   "metadata": {},
   "source": [
    "##### Plot that determines the cut-off point between Salary and OBP"
   ]
  },
  {
   "cell_type": "code",
   "execution_count": 69,
   "metadata": {
    "ExecuteTime": {
     "end_time": "2020-12-04T19:38:11.084220Z",
     "start_time": "2020-12-04T19:38:10.312Z"
    }
   },
   "outputs": [
    {
     "name": "stderr",
     "output_type": "stream",
     "text": [
      "Warning message:\n",
      "\"package 'ggplot2' was built under R version 3.6.3\"Warning message:\n",
      "\"Removed 168 rows containing missing values (geom_point).\""
     ]
    },
    {
     "data": {
      "image/png": "[encoded data removed]",
      "text/plain": [
       "plot without title"
      ]
     },
     "metadata": {},
     "output_type": "display_data"
    }
   ],
   "source": [
    "library(ggplot2)\n",
    "ggplot(avail.players,aes(x=OBP,y=salary)) + geom_point()"
   ]
  },
  {
   "cell_type": "markdown",
   "metadata": {},
   "source": [
    "##### For a optimal average OBP of ~0.364/player, no player should cost more than ~8 Million Dollars"
   ]
  },
  {
   "cell_type": "code",
   "execution_count": null,
   "metadata": {},
   "outputs": [],
   "source": []
  },
  {
   "cell_type": "markdown",
   "metadata": {},
   "source": [
    "##### Eliminatng the large group of players with a 0 OBP along with instituting the 8 Million Dollar salary restriction"
   ]
  },
  {
   "cell_type": "code",
   "execution_count": 70,
   "metadata": {
    "ExecuteTime": {
     "end_time": "2020-12-04T19:43:03.480092Z",
     "start_time": "2020-12-04T19:43:03.459Z"
    }
   },
   "outputs": [],
   "source": [
    "avail.players <- filter(avail.players,salary<8000000,OBP>0)"
   ]
  },
  {
   "cell_type": "code",
   "execution_count": null,
   "metadata": {},
   "outputs": [],
   "source": []
  },
  {
   "cell_type": "markdown",
   "metadata": {},
   "source": [
    "##### Sorting the available players by OBP"
   ]
  },
  {
   "cell_type": "code",
   "execution_count": 74,
   "metadata": {
    "ExecuteTime": {
     "end_time": "2020-12-04T19:52:50.296121Z",
     "start_time": "2020-12-04T19:52:50.277Z"
    }
   },
   "outputs": [],
   "source": [
    "avail.players <- filter(avail.players,AB >= 500)"
   ]
  },
  {
   "cell_type": "code",
   "execution_count": 75,
   "metadata": {
    "ExecuteTime": {
     "end_time": "2020-12-04T19:52:50.991243Z",
     "start_time": "2020-12-04T19:52:50.968Z"
    }
   },
   "outputs": [],
   "source": [
    "possible <- head(arrange(avail.players,desc(OBP)),10)"
   ]
  },
  {
   "cell_type": "code",
   "execution_count": 81,
   "metadata": {
    "ExecuteTime": {
     "end_time": "2020-12-04T19:55:03.542912Z",
     "start_time": "2020-12-04T19:55:03.525Z"
    }
   },
   "outputs": [],
   "source": [
    "possible <- possible[,c('playerID','OBP','AB','salary')]"
   ]
  },
  {
   "cell_type": "code",
   "execution_count": 82,
   "metadata": {
    "ExecuteTime": {
     "end_time": "2020-12-04T19:55:03.932480Z",
     "start_time": "2020-12-04T19:55:03.909Z"
    }
   },
   "outputs": [
    {
     "data": {
      "text/html": [
       "<table>\n",
       "<thead><tr><th scope=col>playerID</th><th scope=col>OBP</th><th scope=col>AB</th><th scope=col>salary</th></tr></thead>\n",
       "<tbody>\n",
       "\t<tr><td>giambja01</td><td>0.4769001</td><td>520      </td><td>4103333  </td></tr>\n",
       "\t<tr><td>heltoto01</td><td>0.4316547</td><td>587      </td><td>4950000  </td></tr>\n",
       "\t<tr><td>berkmla01</td><td>0.4302326</td><td>577      </td><td> 305000  </td></tr>\n",
       "\t<tr><td>gonzalu01</td><td>0.4285714</td><td>609      </td><td>4833333  </td></tr>\n",
       "\t<tr><td>thomeji01</td><td>0.4161491</td><td>526      </td><td>7875000  </td></tr>\n",
       "\t<tr><td>alomaro01</td><td>0.4146707</td><td>575      </td><td>7750000  </td></tr>\n",
       "\t<tr><td>edmonji01</td><td>0.4102142</td><td>500      </td><td>6333333  </td></tr>\n",
       "\t<tr><td>gilesbr02</td><td>0.4035608</td><td>576      </td><td>7333333  </td></tr>\n",
       "\t<tr><td>pujolal01</td><td>0.4029630</td><td>590      </td><td> 200000  </td></tr>\n",
       "\t<tr><td>olerujo01</td><td>0.4011799</td><td>572      </td><td>6700000  </td></tr>\n",
       "</tbody>\n",
       "</table>\n"
      ],
      "text/latex": [
       "\\begin{tabular}{r|llll}\n",
       " playerID & OBP & AB & salary\\\\\n",
       "\\hline\n",
       "\t giambja01 & 0.4769001 & 520       & 4103333  \\\\\n",
       "\t heltoto01 & 0.4316547 & 587       & 4950000  \\\\\n",
       "\t berkmla01 & 0.4302326 & 577       &  305000  \\\\\n",
       "\t gonzalu01 & 0.4285714 & 609       & 4833333  \\\\\n",
       "\t thomeji01 & 0.4161491 & 526       & 7875000  \\\\\n",
       "\t alomaro01 & 0.4146707 & 575       & 7750000  \\\\\n",
       "\t edmonji01 & 0.4102142 & 500       & 6333333  \\\\\n",
       "\t gilesbr02 & 0.4035608 & 576       & 7333333  \\\\\n",
       "\t pujolal01 & 0.4029630 & 590       &  200000  \\\\\n",
       "\t olerujo01 & 0.4011799 & 572       & 6700000  \\\\\n",
       "\\end{tabular}\n"
      ],
      "text/markdown": [
       "\n",
       "| playerID | OBP | AB | salary |\n",
       "|---|---|---|---|\n",
       "| giambja01 | 0.4769001 | 520       | 4103333   |\n",
       "| heltoto01 | 0.4316547 | 587       | 4950000   |\n",
       "| berkmla01 | 0.4302326 | 577       |  305000   |\n",
       "| gonzalu01 | 0.4285714 | 609       | 4833333   |\n",
       "| thomeji01 | 0.4161491 | 526       | 7875000   |\n",
       "| alomaro01 | 0.4146707 | 575       | 7750000   |\n",
       "| edmonji01 | 0.4102142 | 500       | 6333333   |\n",
       "| gilesbr02 | 0.4035608 | 576       | 7333333   |\n",
       "| pujolal01 | 0.4029630 | 590       |  200000   |\n",
       "| olerujo01 | 0.4011799 | 572       | 6700000   |\n",
       "\n"
      ],
      "text/plain": [
       "   playerID  OBP       AB  salary \n",
       "1  giambja01 0.4769001 520 4103333\n",
       "2  heltoto01 0.4316547 587 4950000\n",
       "3  berkmla01 0.4302326 577  305000\n",
       "4  gonzalu01 0.4285714 609 4833333\n",
       "5  thomeji01 0.4161491 526 7875000\n",
       "6  alomaro01 0.4146707 575 7750000\n",
       "7  edmonji01 0.4102142 500 6333333\n",
       "8  gilesbr02 0.4035608 576 7333333\n",
       "9  pujolal01 0.4029630 590  200000\n",
       "10 olerujo01 0.4011799 572 6700000"
      ]
     },
     "metadata": {},
     "output_type": "display_data"
    }
   ],
   "source": [
    "possible"
   ]
  },
  {
   "cell_type": "code",
   "execution_count": 84,
   "metadata": {
    "ExecuteTime": {
     "end_time": "2020-12-04T19:55:21.140299Z",
     "start_time": "2020-12-04T19:55:21.118Z"
    }
   },
   "outputs": [
    {
     "data": {
      "text/html": [
       "<table>\n",
       "<thead><tr><th></th><th scope=col>playerID</th><th scope=col>OBP</th><th scope=col>AB</th><th scope=col>salary</th></tr></thead>\n",
       "<tbody>\n",
       "\t<tr><th scope=row>2</th><td>heltoto01</td><td>0.4316547</td><td>587      </td><td>4950000  </td></tr>\n",
       "\t<tr><th scope=row>3</th><td>berkmla01</td><td>0.4302326</td><td>577      </td><td> 305000  </td></tr>\n",
       "\t<tr><th scope=row>4</th><td>gonzalu01</td><td>0.4285714</td><td>609      </td><td>4833333  </td></tr>\n",
       "</tbody>\n",
       "</table>\n"
      ],
      "text/latex": [
       "\\begin{tabular}{r|llll}\n",
       "  & playerID & OBP & AB & salary\\\\\n",
       "\\hline\n",
       "\t2 & heltoto01 & 0.4316547 & 587       & 4950000  \\\\\n",
       "\t3 & berkmla01 & 0.4302326 & 577       &  305000  \\\\\n",
       "\t4 & gonzalu01 & 0.4285714 & 609       & 4833333  \\\\\n",
       "\\end{tabular}\n"
      ],
      "text/markdown": [
       "\n",
       "| <!--/--> | playerID | OBP | AB | salary |\n",
       "|---|---|---|---|---|\n",
       "| 2 | heltoto01 | 0.4316547 | 587       | 4950000   |\n",
       "| 3 | berkmla01 | 0.4302326 | 577       |  305000   |\n",
       "| 4 | gonzalu01 | 0.4285714 | 609       | 4833333   |\n",
       "\n"
      ],
      "text/plain": [
       "  playerID  OBP       AB  salary \n",
       "2 heltoto01 0.4316547 587 4950000\n",
       "3 berkmla01 0.4302326 577  305000\n",
       "4 gonzalu01 0.4285714 609 4833333"
      ]
     },
     "metadata": {},
     "output_type": "display_data"
    }
   ],
   "source": [
    "possible[2:4,]"
   ]
  },
  {
   "cell_type": "code",
   "execution_count": null,
   "metadata": {
    "ExecuteTime": {
     "end_time": "2020-12-04T19:56:21.838254Z",
     "start_time": "2020-12-04T19:56:21.818Z"
    }
   },
   "outputs": [],
   "source": []
  },
  {
   "cell_type": "code",
   "execution_count": null,
   "metadata": {},
   "outputs": [],
   "source": []
  }
 ],
 "metadata": {
  "kernelspec": {
   "display_name": "R",
   "language": "R",
   "name": "ir"
  },
  "language_info": {
   "codemirror_mode": "r",
   "file_extension": ".r",
   "mimetype": "text/x-r-source",
   "name": "R",
   "pygments_lexer": "r",
   "version": "3.6.1"
  }
 },
 "nbformat": 4,
 "nbformat_minor": 4
}
